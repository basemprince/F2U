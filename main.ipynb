{
 "cells": [
  {
   "cell_type": "code",
   "execution_count": 30,
   "metadata": {},
   "outputs": [],
   "source": [
    "import os\n",
    "os.environ['CUBLAS_WORKSPACE_CONFIG'] = ':16:8'"
   ]
  },
  {
   "cell_type": "code",
   "execution_count": 31,
   "metadata": {},
   "outputs": [],
   "source": [
    "import numpy as np\n",
    "import torch\n",
    "import torch.nn as nn\n",
    "from torch.nn.utils.parametrizations import spectral_norm\n",
    "from torch.autograd import Variable\n",
    "from torchvision import datasets, transforms, utils\n",
    "import seaborn as sns\n",
    "import matplotlib.pyplot as plt\n",
    "from dataTransformation import labels4clients, distribute_data_labels4clients, distribute_data_per_client_edited\n",
    "from gan_model import Discriminator, Generator, initialize_weights\n",
    "from network import Server, Worker\n",
    "from torch.utils.data import Dataset, DataLoader\n",
    "from utils import Logger\n",
    "from fid_score import *\n",
    "from inception import *\n",
    "import math"
   ]
  },
  {
   "cell_type": "code",
   "execution_count": 32,
   "metadata": {},
   "outputs": [],
   "source": [
    "seed = 42\n",
    "torch.manual_seed(seed)\n",
    "np.random.seed(seed)\n",
    "os.environ['PYTHONHASHSEED']=str(seed)\n",
    "torch.use_deterministic_algorithms(True)\n",
    "# torch.backends.cudnn.deterministic = True"
   ]
  },
  {
   "cell_type": "code",
   "execution_count": 33,
   "metadata": {},
   "outputs": [],
   "source": [
    "if torch.cuda.is_available():\n",
    "    dev = \"cuda:0\"\n",
    "else:\n",
    "    dev = \"cpu\"\n",
    "dev = torch.device(dev)"
   ]
  },
  {
   "cell_type": "code",
   "execution_count": 34,
   "metadata": {},
   "outputs": [],
   "source": [
    "NUM_WORKERS = 2\n",
    "CLASSES_PER_USER = 2\n",
    "WORKER_OVERRIDE = True # overrides other workers weights with the chosen worker\n",
    "NUM_EPOCHS = 200\n",
    "BATCH_SIZE = 16\n",
    "\n",
    "LEARNING_RATE_D = 2e-4\n",
    "LEARNING_RATE_G = 2e-4\n",
    "B1 = 0.5\n",
    "B2 = 0.999\n",
    "\n",
    "NOISE_DIM = 128\n",
    "FID_BATCH_SIZE = 20\n",
    "NUM_UNIQUE_USERS = NUM_WORKERS"
   ]
  },
  {
   "cell_type": "code",
   "execution_count": 35,
   "metadata": {},
   "outputs": [],
   "source": [
    "limit_classes = True\n",
    "Discriminator_trainig_iterations = 3\n",
    "chosen_strategy = 1\n",
    "trainig_strategies = {0:'fed_avg', 1:'weighted_avg_most',2:'weighted_avg_least', 3:'most_forgiving', 4:'least_forgiving'}\n",
    "trainig_strategies = trainig_strategies[chosen_strategy]"
   ]
  },
  {
   "cell_type": "code",
   "execution_count": 36,
   "metadata": {},
   "outputs": [
    {
     "name": "stdout",
     "output_type": "stream",
     "text": [
      "Files already downloaded and verified\n"
     ]
    },
    {
     "ename": "KeyboardInterrupt",
     "evalue": "",
     "output_type": "error",
     "traceback": [
      "\u001b[1;31m---------------------------------------------------------------------------\u001b[0m",
      "\u001b[1;31mKeyboardInterrupt\u001b[0m                         Traceback (most recent call last)",
      "\u001b[1;32mc:\\Users\\bshqga\\OneDrive - Scania CV\\code\\F2U\\main.ipynb Cell 7\u001b[0m in \u001b[0;36m<cell line: 3>\u001b[1;34m()\u001b[0m\n\u001b[0;32m      <a href='vscode-notebook-cell:/c%3A/Users/bshqga/OneDrive%20-%20Scania%20CV/code/F2U/main.ipynb#W6sZmlsZQ%3D%3D?line=0'>1</a>\u001b[0m trans_cifar \u001b[39m=\u001b[39m transforms\u001b[39m.\u001b[39mCompose([transforms\u001b[39m.\u001b[39mToTensor(), transforms\u001b[39m.\u001b[39mNormalize((\u001b[39m0.5\u001b[39m, \u001b[39m0.5\u001b[39m, \u001b[39m0.5\u001b[39m), (\u001b[39m0.5\u001b[39m, \u001b[39m0.5\u001b[39m, \u001b[39m0.5\u001b[39m))])\n\u001b[0;32m      <a href='vscode-notebook-cell:/c%3A/Users/bshqga/OneDrive%20-%20Scania%20CV/code/F2U/main.ipynb#W6sZmlsZQ%3D%3D?line=1'>2</a>\u001b[0m \u001b[39m# trans_cifar = transforms.Compose([transforms.ToTensor()])\u001b[39;00m\n\u001b[1;32m----> <a href='vscode-notebook-cell:/c%3A/Users/bshqga/OneDrive%20-%20Scania%20CV/code/F2U/main.ipynb#W6sZmlsZQ%3D%3D?line=2'>3</a>\u001b[0m dataset \u001b[39m=\u001b[39m datasets\u001b[39m.\u001b[39;49mCIFAR10(root\u001b[39m=\u001b[39;49m\u001b[39m'\u001b[39;49m\u001b[39m./datasets/cifar/\u001b[39;49m\u001b[39m'\u001b[39;49m, train\u001b[39m=\u001b[39;49m\u001b[39mTrue\u001b[39;49;00m, download\u001b[39m=\u001b[39;49m\u001b[39mTrue\u001b[39;49;00m, transform\u001b[39m=\u001b[39;49mtrans_cifar)\n\u001b[0;32m      <a href='vscode-notebook-cell:/c%3A/Users/bshqga/OneDrive%20-%20Scania%20CV/code/F2U/main.ipynb#W6sZmlsZQ%3D%3D?line=3'>4</a>\u001b[0m dataset_test \u001b[39m=\u001b[39m datasets\u001b[39m.\u001b[39mCIFAR10(root\u001b[39m=\u001b[39m\u001b[39m'\u001b[39m\u001b[39m./datasets/cifar/\u001b[39m\u001b[39m'\u001b[39m, train\u001b[39m=\u001b[39m\u001b[39mFalse\u001b[39;00m, download\u001b[39m=\u001b[39m\u001b[39mTrue\u001b[39;00m, transform\u001b[39m=\u001b[39mtrans_cifar)\n\u001b[0;32m      <a href='vscode-notebook-cell:/c%3A/Users/bshqga/OneDrive%20-%20Scania%20CV/code/F2U/main.ipynb#W6sZmlsZQ%3D%3D?line=4'>5</a>\u001b[0m dataloader_one \u001b[39m=\u001b[39m torch\u001b[39m.\u001b[39mutils\u001b[39m.\u001b[39mdata\u001b[39m.\u001b[39mDataLoader(dataset, shuffle \u001b[39m=\u001b[39m \u001b[39mTrue\u001b[39;00m,batch_size\u001b[39m=\u001b[39mBATCH_SIZE)\n",
      "File \u001b[1;32m~\\AppData\\Roaming\\Python\\Python310\\site-packages\\torchvision\\datasets\\cifar.py:82\u001b[0m, in \u001b[0;36mCIFAR10.__init__\u001b[1;34m(self, root, train, transform, target_transform, download)\u001b[0m\n\u001b[0;32m     80\u001b[0m file_path \u001b[39m=\u001b[39m os\u001b[39m.\u001b[39mpath\u001b[39m.\u001b[39mjoin(\u001b[39mself\u001b[39m\u001b[39m.\u001b[39mroot, \u001b[39mself\u001b[39m\u001b[39m.\u001b[39mbase_folder, file_name)\n\u001b[0;32m     81\u001b[0m \u001b[39mwith\u001b[39;00m \u001b[39mopen\u001b[39m(file_path, \u001b[39m\"\u001b[39m\u001b[39mrb\u001b[39m\u001b[39m\"\u001b[39m) \u001b[39mas\u001b[39;00m f:\n\u001b[1;32m---> 82\u001b[0m     entry \u001b[39m=\u001b[39m pickle\u001b[39m.\u001b[39;49mload(f, encoding\u001b[39m=\u001b[39;49m\u001b[39m\"\u001b[39;49m\u001b[39mlatin1\u001b[39;49m\u001b[39m\"\u001b[39;49m)\n\u001b[0;32m     83\u001b[0m     \u001b[39mself\u001b[39m\u001b[39m.\u001b[39mdata\u001b[39m.\u001b[39mappend(entry[\u001b[39m\"\u001b[39m\u001b[39mdata\u001b[39m\u001b[39m\"\u001b[39m])\n\u001b[0;32m     84\u001b[0m     \u001b[39mif\u001b[39;00m \u001b[39m\"\u001b[39m\u001b[39mlabels\u001b[39m\u001b[39m\"\u001b[39m \u001b[39min\u001b[39;00m entry:\n",
      "\u001b[1;31mKeyboardInterrupt\u001b[0m: "
     ]
    }
   ],
   "source": [
    "trans_cifar = transforms.Compose([transforms.ToTensor(), transforms.Normalize((0.5, 0.5, 0.5), (0.5, 0.5, 0.5))])\n",
    "# trans_cifar = transforms.Compose([transforms.ToTensor()])\n",
    "dataset = datasets.CIFAR10(root='./datasets/cifar/', train=True, download=True, transform=trans_cifar)\n",
    "dataset_test = datasets.CIFAR10(root='./datasets/cifar/', train=False, download=True, transform=trans_cifar)\n",
    "dataloader_one = torch.utils.data.DataLoader(dataset, shuffle = True,batch_size=BATCH_SIZE)\n",
    "dataloader_test = torch.utils.data.DataLoader(dataset_test, shuffle = True,batch_size=10000)\n",
    "\n",
    "MAX_WORKER_SAMPLE = len(dataset)/NUM_WORKERS"
   ]
  },
  {
   "cell_type": "code",
   "execution_count": null,
   "metadata": {},
   "outputs": [
    {
     "name": "stdout",
     "output_type": "stream",
     "text": [
      "[9, 1]\n",
      "[5, 3]\n",
      "{9: [0], 1: [0], 5: [1], 3: [1]}\n"
     ]
    }
   ],
   "source": [
    "num_classes = 10\n",
    "\n",
    "\n",
    "dictionary = labels4clients(num_classes,CLASSES_PER_USER,NUM_WORKERS,NUM_UNIQUE_USERS,random_seed=False)\n",
    "\n",
    "if limit_classes:\n",
    "    worker1_classes = []\n",
    "    worker1_classes.append(dataset.class_to_idx['truck'])\n",
    "    worker1_classes.append(dataset.class_to_idx['automobile'])\n",
    "    print(worker1_classes)\n",
    "\n",
    "    worker2_classes = []\n",
    "    worker2_classes.append(dataset.class_to_idx['dog'])\n",
    "    worker2_classes.append(dataset.class_to_idx['cat'])\n",
    "    print(worker2_classes)\n",
    "\n",
    "    dictionary = {}\n",
    "    for i in worker1_classes:\n",
    "        if i in dictionary:\n",
    "            dictionary[i].append(0)\n",
    "        else:\n",
    "            dictionary[i]= [0]\n",
    "    for i in worker2_classes:\n",
    "        if i in dictionary:\n",
    "            dictionary[i].append(1)\n",
    "        else:\n",
    "            dictionary[i]= [1]\n",
    "\n",
    "print(dictionary)"
   ]
  },
  {
   "cell_type": "code",
   "execution_count": null,
   "metadata": {},
   "outputs": [],
   "source": [
    "for img in dataloader_test:\n",
    "    test_imgs=img[0].to(dev)"
   ]
  },
  {
   "cell_type": "code",
   "execution_count": null,
   "metadata": {},
   "outputs": [],
   "source": [
    "# print(dataset.data[0])\n",
    "# print(dataset.transforms(dataset.data[0],transforms.ToTensor()))\n",
    "# print(dataset.transforms(dataset.data[0],trans_cifar))"
   ]
  },
  {
   "cell_type": "code",
   "execution_count": null,
   "metadata": {},
   "outputs": [
    {
     "name": "stdout",
     "output_type": "stream",
     "text": [
      "transformed shape: (3, 32, 32)\n"
     ]
    },
    {
     "data": {
      "image/png": "[encoded data removed]",
      "text/plain": [
       "<Figure size 640x480 with 1 Axes>"
      ]
     },
     "metadata": {},
     "output_type": "display_data"
    }
   ],
   "source": [
    "transformed = trans_cifar(dataset.data[0]).cpu().detach().numpy()\n",
    "print(\"transformed shape:\", transformed.shape)\n",
    "plt.figure('normalized data')\n",
    "plt.hist(transformed.ravel(), bins=50, density=False)\n",
    "plt.xlabel(\"pixel values\")\n",
    "plt.ylabel(\"frequency\")\n",
    "plt.show()"
   ]
  },
  {
   "cell_type": "code",
   "execution_count": null,
   "metadata": {},
   "outputs": [],
   "source": [
    "# print(dataset.data.shape)\n",
    "# print(type(dataset))\n",
    "# print(dataloader_one.dataset.data.shape)\n",
    "# x,_ = dataloader_one.dataset[0]\n",
    "# print(x.shape)\n",
    "# print(x)"
   ]
  },
  {
   "cell_type": "code",
   "execution_count": null,
   "metadata": {},
   "outputs": [
    {
     "name": "stdout",
     "output_type": "stream",
     "text": [
      "train datatset shape: (50000, 3, 32, 32)\n"
     ]
    }
   ],
   "source": [
    "x_train_normalized_np = np.empty((dataset.data.shape[0],dataset.data.shape[3],dataset.data.shape[1],dataset.data.shape[2]))\n",
    "print(\"train datatset shape:\",x_train_normalized_np.shape)\n",
    "for i in range(len(dataset)):\n",
    "    x_train_normalized_np[i] = trans_cifar(dataset.data[i])"
   ]
  },
  {
   "cell_type": "code",
   "execution_count": null,
   "metadata": {},
   "outputs": [
    {
     "data": {
      "text/plain": [
       "(32, 32)"
      ]
     },
     "execution_count": 14,
     "metadata": {},
     "output_type": "execute_result"
    }
   ],
   "source": [
    "x_train_normalized_np[0][0].shape"
   ]
  },
  {
   "cell_type": "code",
   "execution_count": null,
   "metadata": {},
   "outputs": [
    {
     "data": {
      "image/png": "[encoded data removed]",
      "text/plain": [
       "<Figure size 640x480 with 1 Axes>"
      ]
     },
     "metadata": {},
     "output_type": "display_data"
    }
   ],
   "source": [
    "plt.figure('normalized data')\n",
    "bin_size = 60\n",
    "plt.hist(x_train_normalized_np[:][0].ravel(),color='r', bins=bin_size, density=False)\n",
    "plt.hist(x_train_normalized_np[:][1].ravel(),color='g', bins=bin_size, density=False)\n",
    "plt.hist(x_train_normalized_np[:][2].ravel(),color='b', bins=bin_size, density=False)\n",
    "plt.xlabel(\"pixel values\")\n",
    "plt.ylabel(\"frequency\")\n",
    "plt.show()"
   ]
  },
  {
   "cell_type": "code",
   "execution_count": null,
   "metadata": {},
   "outputs": [],
   "source": [
    "# x_train = np.asarray(dataset.data)\n",
    "y_train = np.asarray(dataset.targets)\n",
    "x_client_list, y_client_list = distribute_data_per_client_edited(x_train_normalized_np,y_train,dictionary,CLASSES_PER_USER,random_seed = False, max_samples_per_client = MAX_WORKER_SAMPLE)"
   ]
  },
  {
   "cell_type": "code",
   "execution_count": null,
   "metadata": {},
   "outputs": [
    {
     "name": "stdout",
     "output_type": "stream",
     "text": [
      "worker#0 data count: 10000\n",
      "worker#1 data count: 10000\n"
     ]
    }
   ],
   "source": [
    "for i, x in enumerate(x_client_list):\n",
    "    print(f'worker#{i} data count: {len(x)}')"
   ]
  },
  {
   "cell_type": "code",
   "execution_count": null,
   "metadata": {},
   "outputs": [],
   "source": [
    "# def getDist(y,class_list,user_num):\n",
    "#     ax = sns.countplot(x=y)\n",
    "#     ax.set(title=\"Count of data classes for %s\" %user_num)\n",
    "#     plt.show()"
   ]
  },
  {
   "cell_type": "code",
   "execution_count": null,
   "metadata": {},
   "outputs": [],
   "source": [
    "def getDist(y,class_list,user_num):\n",
    "    ax = sns.barplot(x=class_list,y=y)\n",
    "    ax.set(title=\"Count of data classes for %s\" %user_num)\n",
    "    plt.show()"
   ]
  },
  {
   "cell_type": "code",
   "execution_count": null,
   "metadata": {},
   "outputs": [
    {
     "data": {
      "image/png": "[encoded data removed]",
      "text/plain": [
       "<Figure size 640x480 with 1 Axes>"
      ]
     },
     "metadata": {},
     "output_type": "display_data"
    },
    {
     "data": {
      "image/png": "[encoded data removed]",
      "text/plain": [
       "<Figure size 640x480 with 1 Axes>"
      ]
     },
     "metadata": {},
     "output_type": "display_data"
    },
    {
     "name": "stdout",
     "output_type": "stream",
     "text": [
      "total used data 20000\n"
     ]
    }
   ],
   "source": [
    "total_data = 0\n",
    "class_list = [i for i in range(num_classes)]\n",
    "for i in range (len(x_client_list)):\n",
    "    length = len(y_client_list[i])\n",
    "    total_data+= length\n",
    "    y_list = np.bincount(y_client_list[i],minlength=num_classes)\n",
    "    getDist(y_list,class_list,i)\n",
    "print(\"total used data\", total_data)"
   ]
  },
  {
   "cell_type": "code",
   "execution_count": null,
   "metadata": {},
   "outputs": [],
   "source": [
    "fic_model = InceptionV3().to(dev)"
   ]
  },
  {
   "cell_type": "code",
   "execution_count": null,
   "metadata": {},
   "outputs": [],
   "source": [
    "main_server = Server(0,LEARNING_RATE_G,B1,B2,dev)\n",
    "# initialize_weights(main_server.generator)\n",
    "# initialize_weights(main_server.global_disc)\n",
    "main_server.generator.train()\n",
    "main_server.global_disc.train()\n",
    "workers = []\n",
    "workers_weights= []\n",
    "copy_workers = False\n",
    "for i in range(NUM_WORKERS):\n",
    "    worker = Worker(i,LEARNING_RATE_D,B1,B2,dev)\n",
    "    # x_clinet_list[i] = np.transpose(x_clinet_list[i],(0, 3, 1, 2))\n",
    "    if copy_workers:\n",
    "        worker.load_worker_data(x_client_list[0], y_client_list[0])\n",
    "    else:\n",
    "        worker.load_worker_data(x_client_list[i], y_client_list[i]) \n",
    "    # initialize_weights(worker.discriminator)\n",
    "    worker.discriminator.train()\n",
    "    workers.append(worker)\n",
    "    workers_weights.append(worker.discriminator.state_dict())\n",
    "    \n",
    "# summary(main_server.generator,(128,1,1))\n",
    "# summary(workers[0].discriminator,(3,32,32))"
   ]
  },
  {
   "cell_type": "code",
   "execution_count": null,
   "metadata": {},
   "outputs": [],
   "source": [
    "# # code to make all the workers the same\n",
    "# workers_weights= []\n",
    "# for worker in workers:\n",
    "#     worker.discriminator = workers[-1].discriminator\n",
    "#     workers_weights.append(worker.discriminator.state_dict())"
   ]
  },
  {
   "cell_type": "code",
   "execution_count": null,
   "metadata": {},
   "outputs": [],
   "source": [
    "criterion = nn.MSELoss()\n",
    "fixed_noise = torch.randn(36, NOISE_DIM, 1, 1).to(dev) # to use for generating output images\n",
    "\n",
    "worker_loaders = []\n",
    "\n",
    "for worker in workers:\n",
    "    # print(worker.x_data.shape)\n",
    "    worker_loaders.append([])\n",
    "    for batch_id, real in enumerate(DataLoader(dataset=worker.x_data,batch_size=BATCH_SIZE)):\n",
    "        worker_loaders[-1].append(real)"
   ]
  },
  {
   "cell_type": "code",
   "execution_count": null,
   "metadata": {},
   "outputs": [
    {
     "data": {
      "image/png": "[encoded data removed]",
      "text/plain": [
       "<Figure size 640x480 with 1 Axes>"
      ]
     },
     "metadata": {},
     "output_type": "display_data"
    },
    {
     "data": {
      "image/png": "[encoded data removed]",
      "text/plain": [
       "<Figure size 640x480 with 1 Axes>"
      ]
     },
     "metadata": {},
     "output_type": "display_data"
    }
   ],
   "source": [
    "for worker in worker_loaders:\n",
    "    plt.figure('normalized data')\n",
    "    plt.hist(worker[:][1].ravel(),color='r', bins=bin_size, density=False)\n",
    "    # plt.hist(x_train_normalized_np[:][1].ravel(),color='g', bins=bin_size, density=False)\n",
    "    # plt.hist(x_train_normalized_np[:][2].ravel(),color='b', bins=bin_size, density=False)\n",
    "    plt.xlabel(\"pixel values\")\n",
    "    plt.ylabel(\"frequency\")\n",
    "    plt.show()"
   ]
  },
  {
   "cell_type": "code",
   "execution_count": null,
   "metadata": {},
   "outputs": [
    {
     "name": "stdout",
     "output_type": "stream",
     "text": [
      "NUM_WORKERS=  2\n",
      "\n",
      "CLASSES_PER_USER=  2\n",
      "\n",
      "WORKER_OVERRIDE=  True\n",
      "\n",
      "NUM_EPOCHS=  200\n",
      "\n",
      "BATCH_SIZE=  16\n",
      "\n",
      "LEARNING_RATE_D=  0.0002\n",
      "\n",
      "LEARNING_RATE_G=  0.0002\n",
      "\n",
      "limit_classes=  True\n",
      "\n",
      "Discriminator_trainig_iterations=  3\n",
      "\n",
      "trainig_strategies=  weighted_avg_most\n",
      "\n"
     ]
    }
   ],
   "source": [
    "logger = Logger(model_name='F2U',data_name='CIFAR10')\n",
    "param_list = [\"NUM_WORKERS\", \"CLASSES_PER_USER\", \"NUM_EPOCHS\", \"BATCH_SIZE\",\n",
    "\"Discriminator_trainig_iterations\",\"LEARNING_RATE_D\", \"LEARNING_RATE_G\", \"trainig_strategies\", \"WORKER_OVERRIDE\",\"limit_classes\"]\n",
    "global_params = list(globals().items()) \n",
    "logger.log_params(param_list,global_params)"
   ]
  },
  {
   "cell_type": "code",
   "execution_count": null,
   "metadata": {},
   "outputs": [
    {
     "name": "stderr",
     "output_type": "stream",
     "text": [
      "100%|██████████| 1/1 [00:00<00:00,  6.33it/s]\n",
      "100%|██████████| 1/1 [00:00<00:00,  7.09it/s]\n"
     ]
    },
    {
     "name": "stdout",
     "output_type": "stream",
     "text": [
      "Epoch [0/200] Batch 0/625                 Loss D: 0.0200, loss G: 1.0044, FID Score: 231.2\n"
     ]
    },
    {
     "name": "stderr",
     "output_type": "stream",
     "text": [
      "100%|██████████| 1/1 [00:00<00:00,  5.99it/s]\n",
      "100%|██████████| 1/1 [00:00<00:00,  6.10it/s]\n"
     ]
    },
    {
     "name": "stdout",
     "output_type": "stream",
     "text": [
      "Epoch [0/200] Batch 100/625                 Loss D: 0.0188, loss G: 0.9922, FID Score: 237.6\n"
     ]
    },
    {
     "name": "stderr",
     "output_type": "stream",
     "text": [
      "100%|██████████| 1/1 [00:00<00:00,  6.85it/s]\n",
      "100%|██████████| 1/1 [00:00<00:00,  6.99it/s]\n"
     ]
    },
    {
     "name": "stdout",
     "output_type": "stream",
     "text": [
      "Epoch [0/200] Batch 200/625                 Loss D: 0.0198, loss G: 0.9944, FID Score: 232.8\n"
     ]
    },
    {
     "name": "stderr",
     "output_type": "stream",
     "text": [
      "100%|██████████| 1/1 [00:00<00:00,  6.33it/s]\n",
      "100%|██████████| 1/1 [00:00<00:00,  6.33it/s]\n"
     ]
    },
    {
     "name": "stdout",
     "output_type": "stream",
     "text": [
      "Epoch [0/200] Batch 300/625                 Loss D: 0.0099, loss G: 1.1008, FID Score: 237.7\n"
     ]
    },
    {
     "name": "stderr",
     "output_type": "stream",
     "text": [
      "100%|██████████| 1/1 [00:00<00:00,  6.93it/s]\n",
      "100%|██████████| 1/1 [00:00<00:00,  6.89it/s]\n"
     ]
    },
    {
     "name": "stdout",
     "output_type": "stream",
     "text": [
      "Epoch [0/200] Batch 400/625                 Loss D: 0.0158, loss G: 1.0541, FID Score: 227.6\n"
     ]
    },
    {
     "name": "stderr",
     "output_type": "stream",
     "text": [
      "100%|██████████| 1/1 [00:00<00:00,  6.11it/s]\n",
      "100%|██████████| 1/1 [00:00<00:00,  6.40it/s]\n"
     ]
    },
    {
     "name": "stdout",
     "output_type": "stream",
     "text": [
      "Epoch [0/200] Batch 500/625                 Loss D: 0.0123, loss G: 0.9286, FID Score: 239.9\n"
     ]
    },
    {
     "name": "stderr",
     "output_type": "stream",
     "text": [
      "100%|██████████| 1/1 [00:00<00:00,  6.30it/s]\n",
      "100%|██████████| 1/1 [00:00<00:00,  6.29it/s]\n"
     ]
    },
    {
     "name": "stdout",
     "output_type": "stream",
     "text": [
      "Epoch [0/200] Batch 600/625                 Loss D: 0.0246, loss G: 1.0155, FID Score: 255.1\n",
      "hi\n"
     ]
    },
    {
     "data": {
      "image/png": "[encoded data removed]",
      "text/plain": [
       "<Figure size 640x480 with 1 Axes>"
      ]
     },
     "metadata": {},
     "output_type": "display_data"
    },
    {
     "name": "stderr",
     "output_type": "stream",
     "text": [
      "100%|██████████| 1/1 [00:00<00:00,  6.82it/s]\n",
      "100%|██████████| 1/1 [00:00<00:00,  7.09it/s]\n"
     ]
    },
    {
     "name": "stdout",
     "output_type": "stream",
     "text": [
      "Epoch [1/200] Batch 0/625                 Loss D: 0.0249, loss G: 1.1267, FID Score: 229.4\n"
     ]
    },
    {
     "name": "stderr",
     "output_type": "stream",
     "text": [
      "100%|██████████| 1/1 [00:00<00:00,  6.20it/s]\n",
      "100%|██████████| 1/1 [00:00<00:00,  6.22it/s]\n"
     ]
    },
    {
     "name": "stdout",
     "output_type": "stream",
     "text": [
      "Epoch [1/200] Batch 100/625                 Loss D: 0.0252, loss G: 0.9011, FID Score: 220.5\n"
     ]
    },
    {
     "name": "stderr",
     "output_type": "stream",
     "text": [
      "100%|██████████| 1/1 [00:00<00:00,  6.21it/s]\n",
      "100%|██████████| 1/1 [00:00<00:00,  6.24it/s]\n"
     ]
    },
    {
     "name": "stdout",
     "output_type": "stream",
     "text": [
      "Epoch [1/200] Batch 200/625                 Loss D: 0.0289, loss G: 0.9032, FID Score: 251.0\n"
     ]
    },
    {
     "name": "stderr",
     "output_type": "stream",
     "text": [
      "100%|██████████| 1/1 [00:00<00:00,  6.87it/s]\n",
      "100%|██████████| 1/1 [00:00<00:00,  6.89it/s]\n"
     ]
    },
    {
     "name": "stdout",
     "output_type": "stream",
     "text": [
      "Epoch [1/200] Batch 300/625                 Loss D: 0.1285, loss G: 0.7069, FID Score: 232.1\n"
     ]
    },
    {
     "name": "stderr",
     "output_type": "stream",
     "text": [
      "100%|██████████| 1/1 [00:00<00:00,  6.25it/s]\n",
      "100%|██████████| 1/1 [00:00<00:00,  6.22it/s]\n"
     ]
    },
    {
     "name": "stdout",
     "output_type": "stream",
     "text": [
      "Epoch [1/200] Batch 400/625                 Loss D: 0.0413, loss G: 1.0133, FID Score: 238.7\n"
     ]
    },
    {
     "name": "stderr",
     "output_type": "stream",
     "text": [
      "100%|██████████| 1/1 [00:00<00:00,  6.13it/s]\n",
      "100%|██████████| 1/1 [00:00<00:00,  6.28it/s]\n"
     ]
    },
    {
     "name": "stdout",
     "output_type": "stream",
     "text": [
      "Epoch [1/200] Batch 500/625                 Loss D: 0.0301, loss G: 1.1392, FID Score: 244.0\n"
     ]
    },
    {
     "name": "stderr",
     "output_type": "stream",
     "text": [
      "100%|██████████| 1/1 [00:00<00:00,  6.80it/s]\n",
      "100%|██████████| 1/1 [00:00<00:00,  6.89it/s]\n"
     ]
    },
    {
     "name": "stdout",
     "output_type": "stream",
     "text": [
      "Epoch [1/200] Batch 600/625                 Loss D: 0.0266, loss G: 0.9162, FID Score: 230.5\n",
      "hi\n"
     ]
    },
    {
     "data": {
      "image/png": "[encoded data removed]",
      "text/plain": [
       "<Figure size 640x480 with 1 Axes>"
      ]
     },
     "metadata": {},
     "output_type": "display_data"
    },
    {
     "name": "stderr",
     "output_type": "stream",
     "text": [
      "100%|██████████| 1/1 [00:00<00:00,  6.80it/s]\n",
      "100%|██████████| 1/1 [00:00<00:00,  7.03it/s]\n"
     ]
    },
    {
     "name": "stdout",
     "output_type": "stream",
     "text": [
      "Epoch [2/200] Batch 0/625                 Loss D: 0.0156, loss G: 1.0435, FID Score: 237.0\n"
     ]
    },
    {
     "name": "stderr",
     "output_type": "stream",
     "text": [
      "100%|██████████| 1/1 [00:00<00:00,  6.21it/s]\n",
      "100%|██████████| 1/1 [00:00<00:00,  6.25it/s]\n"
     ]
    },
    {
     "name": "stdout",
     "output_type": "stream",
     "text": [
      "Epoch [2/200] Batch 100/625                 Loss D: 0.0415, loss G: 0.9705, FID Score: 243.3\n"
     ]
    },
    {
     "name": "stderr",
     "output_type": "stream",
     "text": [
      "100%|██████████| 1/1 [00:00<00:00,  6.76it/s]\n",
      "100%|██████████| 1/1 [00:00<00:00,  6.94it/s]\n"
     ]
    },
    {
     "name": "stdout",
     "output_type": "stream",
     "text": [
      "Epoch [2/200] Batch 200/625                 Loss D: 0.0208, loss G: 0.9004, FID Score: 246.8\n"
     ]
    },
    {
     "name": "stderr",
     "output_type": "stream",
     "text": [
      "100%|██████████| 1/1 [00:00<00:00,  6.25it/s]\n",
      "100%|██████████| 1/1 [00:00<00:00,  6.37it/s]\n"
     ]
    },
    {
     "name": "stdout",
     "output_type": "stream",
     "text": [
      "Epoch [2/200] Batch 300/625                 Loss D: 0.0188, loss G: 1.0140, FID Score: 239.2\n"
     ]
    },
    {
     "name": "stderr",
     "output_type": "stream",
     "text": [
      "100%|██████████| 1/1 [00:00<00:00,  6.80it/s]\n",
      "100%|██████████| 1/1 [00:00<00:00,  7.04it/s]\n"
     ]
    },
    {
     "name": "stdout",
     "output_type": "stream",
     "text": [
      "Epoch [2/200] Batch 400/625                 Loss D: 0.0273, loss G: 0.9391, FID Score: 223.8\n"
     ]
    },
    {
     "name": "stderr",
     "output_type": "stream",
     "text": [
      "100%|██████████| 1/1 [00:00<00:00,  6.21it/s]\n",
      "100%|██████████| 1/1 [00:00<00:00,  6.10it/s]\n"
     ]
    },
    {
     "name": "stdout",
     "output_type": "stream",
     "text": [
      "Epoch [2/200] Batch 500/625                 Loss D: 0.0421, loss G: 0.7865, FID Score: 230.1\n"
     ]
    },
    {
     "name": "stderr",
     "output_type": "stream",
     "text": [
      "100%|██████████| 1/1 [00:00<00:00,  6.10it/s]\n",
      "100%|██████████| 1/1 [00:00<00:00,  6.17it/s]\n"
     ]
    },
    {
     "name": "stdout",
     "output_type": "stream",
     "text": [
      "Epoch [2/200] Batch 600/625                 Loss D: 0.0269, loss G: 0.7383, FID Score: 238.1\n",
      "hi\n"
     ]
    },
    {
     "data": {
      "image/png": "[encoded data removed]",
      "text/plain": [
       "<Figure size 640x480 with 1 Axes>"
      ]
     },
     "metadata": {},
     "output_type": "display_data"
    },
    {
     "name": "stderr",
     "output_type": "stream",
     "text": [
      "100%|██████████| 1/1 [00:00<00:00,  6.80it/s]\n",
      "100%|██████████| 1/1 [00:00<00:00,  7.04it/s]\n"
     ]
    },
    {
     "name": "stdout",
     "output_type": "stream",
     "text": [
      "Epoch [3/200] Batch 0/625                 Loss D: 0.0271, loss G: 0.8259, FID Score: 215.4\n"
     ]
    },
    {
     "name": "stderr",
     "output_type": "stream",
     "text": [
      "100%|██████████| 1/1 [00:00<00:00,  6.13it/s]\n",
      "100%|██████████| 1/1 [00:00<00:00,  6.33it/s]\n"
     ]
    },
    {
     "name": "stdout",
     "output_type": "stream",
     "text": [
      "Epoch [3/200] Batch 100/625                 Loss D: 0.0242, loss G: 0.8847, FID Score: 239.1\n"
     ]
    },
    {
     "name": "stderr",
     "output_type": "stream",
     "text": [
      "100%|██████████| 1/1 [00:00<00:00,  6.25it/s]\n",
      "100%|██████████| 1/1 [00:00<00:00,  6.25it/s]\n"
     ]
    },
    {
     "name": "stdout",
     "output_type": "stream",
     "text": [
      "Epoch [3/200] Batch 200/625                 Loss D: 0.0201, loss G: 0.9499, FID Score: 255.5\n"
     ]
    },
    {
     "name": "stderr",
     "output_type": "stream",
     "text": [
      "100%|██████████| 1/1 [00:00<00:00,  6.80it/s]\n",
      "100%|██████████| 1/1 [00:00<00:00,  6.99it/s]\n"
     ]
    },
    {
     "name": "stdout",
     "output_type": "stream",
     "text": [
      "Epoch [3/200] Batch 300/625                 Loss D: 0.0296, loss G: 0.9256, FID Score: 231.1\n"
     ]
    },
    {
     "name": "stderr",
     "output_type": "stream",
     "text": [
      "100%|██████████| 1/1 [00:00<00:00,  6.13it/s]\n",
      "100%|██████████| 1/1 [00:00<00:00,  6.25it/s]\n"
     ]
    },
    {
     "name": "stdout",
     "output_type": "stream",
     "text": [
      "Epoch [3/200] Batch 400/625                 Loss D: 0.0218, loss G: 0.8250, FID Score: 241.5\n"
     ]
    },
    {
     "name": "stderr",
     "output_type": "stream",
     "text": [
      "100%|██████████| 1/1 [00:00<00:00,  6.94it/s]\n",
      "100%|██████████| 1/1 [00:00<00:00,  6.99it/s]\n"
     ]
    },
    {
     "name": "stdout",
     "output_type": "stream",
     "text": [
      "Epoch [3/200] Batch 500/625                 Loss D: 0.0283, loss G: 1.1498, FID Score: 257.3\n"
     ]
    },
    {
     "name": "stderr",
     "output_type": "stream",
     "text": [
      "100%|██████████| 1/1 [00:00<00:00,  6.76it/s]\n",
      "100%|██████████| 1/1 [00:00<00:00,  7.04it/s]\n"
     ]
    },
    {
     "name": "stdout",
     "output_type": "stream",
     "text": [
      "Epoch [3/200] Batch 600/625                 Loss D: 0.0238, loss G: 0.8989, FID Score: 229.4\n",
      "hi\n"
     ]
    },
    {
     "data": {
      "image/png": "[encoded data removed]",
      "text/plain": [
       "<Figure size 640x480 with 1 Axes>"
      ]
     },
     "metadata": {},
     "output_type": "display_data"
    },
    {
     "name": "stderr",
     "output_type": "stream",
     "text": [
      "100%|██████████| 1/1 [00:00<00:00,  6.10it/s]\n",
      "100%|██████████| 1/1 [00:00<00:00,  6.10it/s]\n"
     ]
    },
    {
     "name": "stdout",
     "output_type": "stream",
     "text": [
      "Epoch [4/200] Batch 0/625                 Loss D: 0.0240, loss G: 0.9930, FID Score: 228.6\n"
     ]
    },
    {
     "name": "stderr",
     "output_type": "stream",
     "text": [
      "100%|██████████| 1/1 [00:00<00:00,  6.13it/s]\n",
      "100%|██████████| 1/1 [00:00<00:00,  6.25it/s]\n"
     ]
    },
    {
     "name": "stdout",
     "output_type": "stream",
     "text": [
      "Epoch [4/200] Batch 100/625                 Loss D: 0.0371, loss G: 0.8762, FID Score: 235.5\n"
     ]
    },
    {
     "name": "stderr",
     "output_type": "stream",
     "text": [
      "100%|██████████| 1/1 [00:00<00:00,  6.17it/s]\n",
      "100%|██████████| 1/1 [00:00<00:00,  6.29it/s]\n"
     ]
    },
    {
     "name": "stdout",
     "output_type": "stream",
     "text": [
      "Epoch [4/200] Batch 200/625                 Loss D: 0.0295, loss G: 0.9636, FID Score: 238.1\n"
     ]
    },
    {
     "name": "stderr",
     "output_type": "stream",
     "text": [
      "100%|██████████| 1/1 [00:00<00:00,  6.21it/s]\n",
      "100%|██████████| 1/1 [00:00<00:00,  6.21it/s]\n"
     ]
    },
    {
     "name": "stdout",
     "output_type": "stream",
     "text": [
      "Epoch [4/200] Batch 300/625                 Loss D: 0.0299, loss G: 1.0124, FID Score: 241.7\n"
     ]
    },
    {
     "name": "stderr",
     "output_type": "stream",
     "text": [
      "100%|██████████| 1/1 [00:00<00:00,  6.80it/s]\n",
      "100%|██████████| 1/1 [00:00<00:00,  6.94it/s]\n"
     ]
    },
    {
     "name": "stdout",
     "output_type": "stream",
     "text": [
      "Epoch [4/200] Batch 400/625                 Loss D: 0.0291, loss G: 1.0053, FID Score: 238.4\n"
     ]
    },
    {
     "name": "stderr",
     "output_type": "stream",
     "text": [
      "100%|██████████| 1/1 [00:00<00:00,  6.21it/s]\n",
      "100%|██████████| 1/1 [00:00<00:00,  6.37it/s]\n"
     ]
    },
    {
     "name": "stdout",
     "output_type": "stream",
     "text": [
      "Epoch [4/200] Batch 500/625                 Loss D: 0.0479, loss G: 0.7717, FID Score: 234.8\n"
     ]
    },
    {
     "name": "stderr",
     "output_type": "stream",
     "text": [
      "100%|██████████| 1/1 [00:00<00:00,  6.80it/s]\n",
      "100%|██████████| 1/1 [00:00<00:00,  6.94it/s]\n"
     ]
    },
    {
     "name": "stdout",
     "output_type": "stream",
     "text": [
      "Epoch [4/200] Batch 600/625                 Loss D: 0.0496, loss G: 0.8666, FID Score: 230.4\n",
      "hi\n"
     ]
    },
    {
     "data": {
      "image/png": "[encoded data removed]",
      "text/plain": [
       "<Figure size 640x480 with 1 Axes>"
      ]
     },
     "metadata": {},
     "output_type": "display_data"
    },
    {
     "name": "stderr",
     "output_type": "stream",
     "text": [
      "100%|██████████| 1/1 [00:00<00:00,  6.90it/s]\n",
      "100%|██████████| 1/1 [00:00<00:00,  7.04it/s]\n"
     ]
    },
    {
     "name": "stdout",
     "output_type": "stream",
     "text": [
      "Epoch [5/200] Batch 0/625                 Loss D: 0.0382, loss G: 0.9464, FID Score: 230.2\n"
     ]
    },
    {
     "name": "stderr",
     "output_type": "stream",
     "text": [
      "100%|██████████| 1/1 [00:00<00:00,  6.25it/s]\n",
      "100%|██████████| 1/1 [00:00<00:00,  6.37it/s]\n"
     ]
    },
    {
     "name": "stdout",
     "output_type": "stream",
     "text": [
      "Epoch [5/200] Batch 100/625                 Loss D: 0.0333, loss G: 0.8593, FID Score: 246.9\n"
     ]
    },
    {
     "name": "stderr",
     "output_type": "stream",
     "text": [
      "100%|██████████| 1/1 [00:00<00:00,  6.13it/s]\n",
      "100%|██████████| 1/1 [00:00<00:00,  6.29it/s]\n"
     ]
    },
    {
     "name": "stdout",
     "output_type": "stream",
     "text": [
      "Epoch [5/200] Batch 200/625                 Loss D: 0.0345, loss G: 0.8866, FID Score: 223.2\n"
     ]
    },
    {
     "ename": "KeyboardInterrupt",
     "evalue": "",
     "output_type": "error",
     "traceback": [
      "\u001b[1;31m---------------------------------------------------------------------------\u001b[0m",
      "\u001b[1;31mKeyboardInterrupt\u001b[0m                         Traceback (most recent call last)",
      "\u001b[1;32mc:\\Users\\bshqga\\OneDrive - Scania CV\\code\\F2U\\main.ipynb Cell 27\u001b[0m in \u001b[0;36m<cell line: 9>\u001b[1;34m()\u001b[0m\n\u001b[0;32m     <a href='vscode-notebook-cell:/c%3A/Users/bshqga/OneDrive%20-%20Scania%20CV/code/F2U/main.ipynb#X35sZmlsZQ%3D%3D?line=30'>31</a>\u001b[0m \u001b[39m# print('real_classification:', round(sum(current_disc_real).item(),6),'real_loss:',round(worker.loss_disc_real.item(),6))\u001b[39;00m\n\u001b[0;32m     <a href='vscode-notebook-cell:/c%3A/Users/bshqga/OneDrive%20-%20Scania%20CV/code/F2U/main.ipynb#X35sZmlsZQ%3D%3D?line=31'>32</a>\u001b[0m current_disc_fake \u001b[39m=\u001b[39m worker\u001b[39m.\u001b[39mdiscriminator(fake\u001b[39m.\u001b[39mdetach())\u001b[39m.\u001b[39mreshape(\u001b[39m-\u001b[39m\u001b[39m1\u001b[39m)\n\u001b[1;32m---> <a href='vscode-notebook-cell:/c%3A/Users/bshqga/OneDrive%20-%20Scania%20CV/code/F2U/main.ipynb#X35sZmlsZQ%3D%3D?line=32'>33</a>\u001b[0m worker\u001b[39m.\u001b[39mloss_disc_fake \u001b[39m=\u001b[39m criterion(current_disc_fake, torch\u001b[39m.\u001b[39;49mzeros_like(current_disc_fake))\n\u001b[0;32m     <a href='vscode-notebook-cell:/c%3A/Users/bshqga/OneDrive%20-%20Scania%20CV/code/F2U/main.ipynb#X35sZmlsZQ%3D%3D?line=33'>34</a>\u001b[0m \u001b[39m# print('fake_classification:', round(sum(current_disc_fake).item(),6),'fake_loss:',round(worker.loss_disc_fake.item(),6))\u001b[39;00m\n\u001b[0;32m     <a href='vscode-notebook-cell:/c%3A/Users/bshqga/OneDrive%20-%20Scania%20CV/code/F2U/main.ipynb#X35sZmlsZQ%3D%3D?line=34'>35</a>\u001b[0m worker\u001b[39m.\u001b[39mloss_disc \u001b[39m=\u001b[39m (worker\u001b[39m.\u001b[39mloss_disc_real \u001b[39m+\u001b[39m worker\u001b[39m.\u001b[39mloss_disc_fake) \u001b[39m/\u001b[39m \u001b[39m2\u001b[39m\n",
      "File \u001b[1;32m~\\AppData\\Roaming\\Python\\Python310\\site-packages\\torch\\nn\\modules\\module.py:1130\u001b[0m, in \u001b[0;36mModule._call_impl\u001b[1;34m(self, *input, **kwargs)\u001b[0m\n\u001b[0;32m   1126\u001b[0m \u001b[39m# If we don't have any hooks, we want to skip the rest of the logic in\u001b[39;00m\n\u001b[0;32m   1127\u001b[0m \u001b[39m# this function, and just call forward.\u001b[39;00m\n\u001b[0;32m   1128\u001b[0m \u001b[39mif\u001b[39;00m \u001b[39mnot\u001b[39;00m (\u001b[39mself\u001b[39m\u001b[39m.\u001b[39m_backward_hooks \u001b[39mor\u001b[39;00m \u001b[39mself\u001b[39m\u001b[39m.\u001b[39m_forward_hooks \u001b[39mor\u001b[39;00m \u001b[39mself\u001b[39m\u001b[39m.\u001b[39m_forward_pre_hooks \u001b[39mor\u001b[39;00m _global_backward_hooks\n\u001b[0;32m   1129\u001b[0m         \u001b[39mor\u001b[39;00m _global_forward_hooks \u001b[39mor\u001b[39;00m _global_forward_pre_hooks):\n\u001b[1;32m-> 1130\u001b[0m     \u001b[39mreturn\u001b[39;00m forward_call(\u001b[39m*\u001b[39m\u001b[39minput\u001b[39m, \u001b[39m*\u001b[39m\u001b[39m*\u001b[39mkwargs)\n\u001b[0;32m   1131\u001b[0m \u001b[39m# Do not call functions when jit is used\u001b[39;00m\n\u001b[0;32m   1132\u001b[0m full_backward_hooks, non_full_backward_hooks \u001b[39m=\u001b[39m [], []\n",
      "File \u001b[1;32m~\\AppData\\Roaming\\Python\\Python310\\site-packages\\torch\\nn\\modules\\loss.py:530\u001b[0m, in \u001b[0;36mMSELoss.forward\u001b[1;34m(self, input, target)\u001b[0m\n\u001b[0;32m    529\u001b[0m \u001b[39mdef\u001b[39;00m \u001b[39mforward\u001b[39m(\u001b[39mself\u001b[39m, \u001b[39minput\u001b[39m: Tensor, target: Tensor) \u001b[39m-\u001b[39m\u001b[39m>\u001b[39m Tensor:\n\u001b[1;32m--> 530\u001b[0m     \u001b[39mreturn\u001b[39;00m F\u001b[39m.\u001b[39;49mmse_loss(\u001b[39minput\u001b[39;49m, target, reduction\u001b[39m=\u001b[39;49m\u001b[39mself\u001b[39;49m\u001b[39m.\u001b[39;49mreduction)\n",
      "File \u001b[1;32m~\\AppData\\Roaming\\Python\\Python310\\site-packages\\torch\\nn\\functional.py:3279\u001b[0m, in \u001b[0;36mmse_loss\u001b[1;34m(input, target, size_average, reduce, reduction)\u001b[0m\n\u001b[0;32m   3276\u001b[0m \u001b[39mif\u001b[39;00m size_average \u001b[39mis\u001b[39;00m \u001b[39mnot\u001b[39;00m \u001b[39mNone\u001b[39;00m \u001b[39mor\u001b[39;00m reduce \u001b[39mis\u001b[39;00m \u001b[39mnot\u001b[39;00m \u001b[39mNone\u001b[39;00m:\n\u001b[0;32m   3277\u001b[0m     reduction \u001b[39m=\u001b[39m _Reduction\u001b[39m.\u001b[39mlegacy_get_string(size_average, reduce)\n\u001b[1;32m-> 3279\u001b[0m expanded_input, expanded_target \u001b[39m=\u001b[39m torch\u001b[39m.\u001b[39;49mbroadcast_tensors(\u001b[39minput\u001b[39;49m, target)\n\u001b[0;32m   3280\u001b[0m \u001b[39mreturn\u001b[39;00m torch\u001b[39m.\u001b[39m_C\u001b[39m.\u001b[39m_nn\u001b[39m.\u001b[39mmse_loss(expanded_input, expanded_target, _Reduction\u001b[39m.\u001b[39mget_enum(reduction))\n",
      "File \u001b[1;32m~\\AppData\\Roaming\\Python\\Python310\\site-packages\\torch\\functional.py:73\u001b[0m, in \u001b[0;36mbroadcast_tensors\u001b[1;34m(*tensors)\u001b[0m\n\u001b[0;32m     71\u001b[0m \u001b[39mif\u001b[39;00m has_torch_function(tensors):\n\u001b[0;32m     72\u001b[0m     \u001b[39mreturn\u001b[39;00m handle_torch_function(broadcast_tensors, tensors, \u001b[39m*\u001b[39mtensors)\n\u001b[1;32m---> 73\u001b[0m \u001b[39mreturn\u001b[39;00m _VF\u001b[39m.\u001b[39;49mbroadcast_tensors(tensors)\n",
      "\u001b[1;31mKeyboardInterrupt\u001b[0m: "
     ]
    }
   ],
   "source": [
    "# main training loop for F2U (trial == FALSE)\n",
    "start = 0\n",
    "end = start + NUM_EPOCHS\n",
    "end = NUM_EPOCHS\n",
    "\n",
    "soft_max = nn.Softmax(dim=0)\n",
    "worker_contribution_cum = torch.zeros(NUM_WORKERS)\n",
    "\n",
    "for epoch in range(start,end):\n",
    "    for batch_id in range(len(worker_loaders[0])):\n",
    "\n",
    "        noise = torch.randn(BATCH_SIZE, NOISE_DIM, 1,1).to(dev)\n",
    "        fake = main_server.generator(noise)\n",
    "        \n",
    "        for disc_train_iter in range(Discriminator_trainig_iterations):\n",
    "            highest_loss = 0\n",
    "            lowest_loss = math.inf\n",
    "            chosen_discriminator = None\n",
    "            worker_losses = []\n",
    "            for worker_id, worker in enumerate(workers):\n",
    "                current_worker_real = worker_loaders[worker_id][batch_id].float().to(dev)\n",
    "\n",
    "                # print('worker ({}) datasum:'.format(worker_id),sum(current_worker_real.flatten()).item())\n",
    "                # print(current_worker_real.shape)\n",
    "\n",
    "                worker.d_optimizer.zero_grad()\n",
    "            \n",
    "                ### Train Discriminator: max log(D(x)) + log(1 - D(G(z)))\n",
    "                current_disc_real = worker.discriminator(current_worker_real).reshape(-1)\n",
    "                worker.loss_disc_real = criterion(current_disc_real, torch.ones_like(current_disc_real))\n",
    "                # print('real_classification:', round(sum(current_disc_real).item(),6),'real_loss:',round(worker.loss_disc_real.item(),6))\n",
    "                current_disc_fake = worker.discriminator(fake.detach()).reshape(-1)\n",
    "                worker.loss_disc_fake = criterion(current_disc_fake, torch.zeros_like(current_disc_fake))\n",
    "                # print('fake_classification:', round(sum(current_disc_fake).item(),6),'fake_loss:',round(worker.loss_disc_fake.item(),6))\n",
    "                worker.loss_disc = (worker.loss_disc_real + worker.loss_disc_fake) / 2\n",
    "                \n",
    "                worker.loss_disc.backward()\n",
    "                worker.d_optimizer.step()\n",
    "\n",
    "                workers_weights[worker_id] = worker.discriminator.state_dict()\n",
    "                worker_losses.append(worker.loss_disc_fake.detach())\n",
    "                # print(worker.loss_disc_fake, i)\n",
    "                if highest_loss < worker.loss_disc_fake and trainig_strategies == 'most_forgiving':\n",
    "                    highest_loss = worker.loss_disc_fake\n",
    "                    chosen_discriminator = worker_id\n",
    "                    chosen_worker = workers[chosen_discriminator]\n",
    "                    \n",
    "                    \n",
    "\n",
    "                if lowest_loss > worker.loss_disc_fake and trainig_strategies == 'least_forgiving' :\n",
    "                    lowest_loss = worker.loss_disc_fake\n",
    "                    chosen_discriminator = worker_id\n",
    "                    chosen_worker = workers[chosen_discriminator]\n",
    "                   \n",
    "            # print(f\"chosen worker is {chosen_discriminator} with loss of: {highest_loss.item():.4f}\")\n",
    "        \n",
    "        ### Train Generator: min log(1 - D(G(z))) <-> max log(D(G(z))\n",
    "        if trainig_strategies in ['fed_avg', 'weighted_avg_most']:\n",
    "            worker_losses = torch.FloatTensor(worker_losses)\n",
    "            # print(f\"worker_losses before: {worker_losses}\")\n",
    "            worker_losses_sm = soft_max(worker_losses)\n",
    "            # print(worker_losses_sm)\n",
    "            worker_contribution_cum += worker_losses_sm\n",
    "        elif trainig_strategies == 'weighted_avg_least':\n",
    "            # print(f\"worker_losses before: {worker_losses}\")\n",
    "            worker_losses = -1*torch.FloatTensor(worker_losses)\n",
    "            # print(f\"worker_losses after: {worker_losses}\")\n",
    "            worker_losses_sm = soft_max(worker_losses)\n",
    "            # print(f\"worker_losses_sm: {worker_losses_sm}\")\n",
    "            worker_contribution_cum += worker_losses_sm\n",
    "\n",
    "        # print(f\"worker_losses after softmax: {worker_losses_sm}\")\n",
    "\n",
    "        # worker_total_weights1 = []\n",
    "        # for worker in workers:\n",
    "        #     weight_sum = 0\n",
    "        #     for i, p in enumerate(worker.discriminator.parameters()):\n",
    "        #         output = sum(p.detach().cpu().numpy().flatten())\n",
    "        #         weight_sum += output\n",
    "        #     worker_total_weights1.append(round(weight_sum,1))\n",
    "\n",
    "        main_server.g_optimizer.zero_grad()\n",
    "\n",
    "        if trainig_strategies == 'fed_avg':\n",
    "            avg_w = main_server.fed_average(workers_weights)\n",
    "            main_server.global_disc.load_state_dict(avg_w)\n",
    "            for worker in workers:\n",
    "                worker.discriminator.load_state_dict(avg_w)\n",
    "            output = main_server.global_disc(fake).reshape(-1)\n",
    "            chosen_worker = workers[0]\n",
    "        elif trainig_strategies in ['weighted_avg_most','weighted_avg_least']:\n",
    "            avg_w = main_server.weighted_fed_average(workers_weights,worker_losses_sm)\n",
    "            main_server.global_disc.load_state_dict(avg_w)\n",
    "            for worker in workers:\n",
    "                worker.discriminator.load_state_dict(avg_w)\n",
    "            output = main_server.global_disc(fake).reshape(-1)\n",
    "            chosen_worker = workers[0]\n",
    "        else:\n",
    "            worker_contribution_cum[chosen_discriminator]+=1\n",
    "            if WORKER_OVERRIDE:\n",
    "                for worker in workers:\n",
    "                    worker.discriminator.load_state_dict(chosen_worker.discriminator.state_dict())\n",
    "            output = chosen_worker.discriminator(fake).reshape(-1)\n",
    "        main_server.loss_gen = criterion(output, torch.ones_like(output))\n",
    "        \n",
    "        main_server.loss_gen.backward()\n",
    "        # check weights of all workers before and after\n",
    "\n",
    "        main_server.g_optimizer.step()\n",
    "\n",
    "        # worker_total_weights2 = []\n",
    "        # for worker in workers:\n",
    "        #     weight_sum = 0\n",
    "        #     for i, p in enumerate(worker.discriminator.parameters()):\n",
    "        #         output = sum(p.detach().cpu().numpy().flatten())\n",
    "        #         weight_sum += output\n",
    "        #     worker_total_weights2.append(round(weight_sum,1))\n",
    "        \n",
    "        # diff = []\n",
    "        # for i, curr_weight in enumerate(worker_total_weights2):\n",
    "        #     diff.append(abs(curr_weight-worker_total_weights1[i]))\n",
    "        # print(\"before g_optimizer:\", worker_total_weights1, \"after g_optimizer:\", worker_total_weights2, \"diff:\", diff)\n",
    "\n",
    "        with torch.no_grad():\n",
    "            logger.log_workers(workers,epoch,batch_id,len(worker_loaders[0]))\n",
    "            logger.log(chosen_worker.loss_disc.item(),main_server.loss_gen.item(),chosen_worker.loss_disc_real, chosen_worker.loss_disc_fake,epoch,batch_id,len(worker_loaders[0]))\n",
    "        # Print loss\n",
    "        if batch_id % 100 == 0:\n",
    "            fid_z = torch.randn(FID_BATCH_SIZE, NOISE_DIM, 1,1).to(dev)\n",
    "            gen_imgs = main_server.generator(fid_z.detach())\n",
    "            mu_gen, sigma_gen = calculate_activation_statistics(gen_imgs, fic_model, batch_size=FID_BATCH_SIZE,cuda=True,verbose=False)\n",
    "            mu_test, sigma_test = calculate_activation_statistics(test_imgs[:FID_BATCH_SIZE], fic_model, batch_size=FID_BATCH_SIZE,cuda=True,verbose=False)\n",
    "            fid = calculate_frechet_distance(mu_gen, sigma_gen, mu_test, sigma_test)\n",
    "            logger.log_fid(fid,epoch,batch_id,len(worker_loaders[0]))\n",
    "\n",
    "            print(\n",
    "                f\"Epoch [{epoch}/{NUM_EPOCHS}] Batch {batch_id}/{len(worker_loaders[0])} \\\n",
    "                Loss D: {chosen_worker.loss_disc:.4f}, loss G: {main_server.loss_gen:.4f}, FID Score: {fid:.1f}\"\n",
    "            )\n",
    "        \n",
    "    with torch.no_grad():\n",
    "        main_server.generator.eval()\n",
    "        fake = main_server.generator(fixed_noise)\n",
    "        main_server.generator.train()\n",
    "        logger.log_images(fake,len(fake), epoch, batch_id, len(worker_loaders[0]))\n",
    "\n",
    "    print('hi')\n",
    "    chosen_w_np = worker_contribution_cum.detach().cpu().numpy()\n",
    "    ra = range(1,len(chosen_w_np)+1)\n",
    "    plt.bar(ra,chosen_w_np)\n",
    "    plt.xticks(ra)\n",
    "    plt.xlabel('worker number')\n",
    "    plt.ylabel('contribution')\n",
    "    plt.savefig('{}/worker_cont.png'.format(logger.writer.logdir))\n",
    "    plt.show()\n",
    "\n",
    "    if (epoch+1) % 50 == 0 and epoch != 0:\n",
    "        logger.save_models(main_server,workers,epoch)"
   ]
  },
  {
   "cell_type": "code",
   "execution_count": null,
   "metadata": {},
   "outputs": [],
   "source": [
    "# plt.bar(range(len(worker_chosen_counter)),worker_chosen_counter)\n",
    "# plt.xlabel('worker number')\n",
    "# plt.ylabel('chosen counter')\n",
    "# plt.show()"
   ]
  },
  {
   "cell_type": "code",
   "execution_count": null,
   "metadata": {},
   "outputs": [],
   "source": [
    "# for testing the total weights\n",
    "# worker_total_weights1 = []\n",
    "# for worker in workers:\n",
    "#     weight_sum = 0\n",
    "#     for i, p in enumerate(worker.discriminator.parameters()):\n",
    "#         output = sum(p.detach().cpu().numpy().flatten())\n",
    "#         weight_sum += output\n",
    "#     worker_total_weights1.append(round(weight_sum,1))\n",
    "\n",
    "# worker_total_weights2 = []\n",
    "# for worker in workers:\n",
    "#     weight_sum = 0\n",
    "#     for i, p in enumerate(worker.discriminator.parameters()):\n",
    "#         output = sum(p.detach().cpu().numpy().flatten())\n",
    "#         weight_sum += output\n",
    "#     worker_total_weights2.append(round(weight_sum,1))\n",
    "\n",
    "# diff = []\n",
    "# for i, curr_weight in enumerate(worker_total_weights2):\n",
    "#     diff.append(abs(curr_weight-worker_total_weights1[i]))\n",
    "# print(\"before g_optimizer:\", worker_total_weights1, \"after g_optimizer:\", worker_total_weights2, \"diff:\", diff)\n"
   ]
  },
  {
   "cell_type": "code",
   "execution_count": null,
   "metadata": {},
   "outputs": [],
   "source": [
    "# # GAN archicture trial (trial == TRUE)\n",
    "# if trial:\n",
    "#     start = 0\n",
    "#     end = start + NUM_EPOCHS\n",
    "#     for epoch in range(start,end):\n",
    "#         for i, data in enumerate(dataloader_one):\n",
    "#             worker = workers[0]\n",
    "#             noise = torch.randn(BATCH_SIZE, NOISE_DIM, 1,1).to(dev)\n",
    "#             fake = main_server.generator(noise)\n",
    "#             real, _ = data\n",
    "\n",
    "#             ### Train Discriminator: max log(D(x)) + log(1 - D(G(z)))\n",
    "            \n",
    "#             current_disc_real = worker.discriminator(real).reshape(-1)\n",
    "#             # print('current discriminator real output', current_disc_real)\n",
    "#             worker.loss_disc_real = criterion(current_disc_real, torch.ones_like(current_disc_real))\n",
    "#             # print('worker loss_disc_real output', current_disc_real)\n",
    "#             current_disc_fake = worker.discriminator(fake.detach()).reshape(-1)\n",
    "#             worker.loss_disc_fake = criterion(current_disc_fake, torch.zeros_like(current_disc_fake))\n",
    "#             worker.loss_disc = (worker.loss_disc_real + worker.loss_disc_fake) / 2\n",
    "#             worker.discriminator.zero_grad()\n",
    "#             worker.loss_disc.backward()\n",
    "#             # total_norm_d =0\n",
    "#             # for p in list(filter(lambda p: p.grad is not None, worker.discriminator.parameters())):\n",
    "#             #     total_norm_d += p.grad.detach().data.norm(2).item()** 2\n",
    "#             # total_norm_d = total_norm_d ** 0.5\n",
    "\n",
    "#             worker.d_optimizer.step()\n",
    "\n",
    "#             ### Train Generator: min log(1 - D(G(z))) <-> max log(D(G(z))\n",
    "            \n",
    "#             output = worker.discriminator(fake).reshape(-1)\n",
    "#             main_server.loss_gen = criterion(output, torch.ones_like(output))\n",
    "#             main_server.generator.zero_grad()\n",
    "#             main_server.loss_gen.backward()\n",
    "\n",
    "#             # total_norm_g =0\n",
    "#             # for p in list(filter(lambda p: p.grad is not None, main_server.generator.parameters())):\n",
    "#             #     total_norm_g += p.grad.detach().data.norm(2).item()** 2\n",
    "#             # total_norm_g = total_norm_g ** 0.5\n",
    "\n",
    "#             main_server.g_optimizer.step()\n",
    "\n",
    "\n",
    "#             logger.log(worker.loss_disc.item(),main_server.loss_gen.item(),worker.loss_disc_real, worker.loss_disc_fake,epoch,i,len(dataloader_one))\n",
    "\n",
    "#             # Print loss\n",
    "#             if i % 100 == 0:    \n",
    "#                 fid_z = torch.randn(FID_BATCH_SIZE, NOISE_DIM, 1,1).to(dev)\n",
    "#                 gen_imgs = main_server.generator(fid_z.detach())\n",
    "#                 mu_gen, sigma_gen = calculate_activation_statistics(gen_imgs, fic_model, batch_size=FID_BATCH_SIZE,cuda=True)\n",
    "#                 mu_test, sigma_test = calculate_activation_statistics(test_imgs[:FID_BATCH_SIZE], fic_model, batch_size=FID_BATCH_SIZE,cuda=True)\n",
    "#                 fid = calculate_frechet_distance(mu_gen, sigma_gen, mu_test, sigma_test)\n",
    "#                 logger.log_fid(fid,epoch,i,len(dataloader_one))\n",
    "\n",
    "#                 print(\n",
    "#                     f\"Epoch [{epoch}/{end}] Batch {i}/{len(dataloader_one)} \\\n",
    "#                     Loss D: {worker.loss_disc:.4f}, loss G: {main_server.loss_gen:.4f}, FID Score: {fid:.1f}\"\n",
    "#                 )\n",
    "\n",
    "#             if i% 500 == 0:\n",
    "#                 with torch.no_grad():\n",
    "#                     fake = main_server.generator(fixed_noise)\n",
    "#                     logger.log_images(fake,len(fake), epoch, i, len(dataloader_one))\n",
    "#         if epoch % 50 == 0 and epoch !=0:\n",
    "#             logger.save_models(main_server,workers,epoch)\n"
   ]
  }
 ],
 "metadata": {
  "kernelspec": {
   "display_name": "Python 3 (ipykernel)",
   "language": "python",
   "name": "python3"
  },
  "language_info": {
   "codemirror_mode": {
    "name": "ipython",
    "version": 3
   },
   "file_extension": ".py",
   "mimetype": "text/x-python",
   "name": "python",
   "nbconvert_exporter": "python",
   "pygments_lexer": "ipython3",
   "version": "3.10.6 (tags/v3.10.6:9c7b4bd, Aug  1 2022, 21:53:49) [MSC v.1932 64 bit (AMD64)]"
  },
  "vscode": {
   "interpreter": {
    "hash": "26de051ba29f2982a8de78e945f0abaf191376122a1563185a90213a26c5da77"
   }
  }
 },
 "nbformat": 4,
 "nbformat_minor": 2
}
