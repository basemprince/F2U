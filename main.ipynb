{
 "cells": [
  {
   "cell_type": "code",
   "execution_count": 1,
   "metadata": {},
   "outputs": [],
   "source": [
    "import numpy as np\n",
    "import torch\n",
    "import torch.nn as nn\n",
    "from torch.nn.utils.parametrizations import spectral_norm\n",
    "from torch.autograd import Variable\n",
    "from torchvision import datasets, transforms, utils\n",
    "import seaborn as sns\n",
    "import matplotlib.pyplot as plt\n",
    "from torchsummary import summary\n",
    "from dataTransformation import labels4clients, distribute_data_labels4clients\n",
    "from gan_model import Discriminator, Generator, initialize_weights\n",
    "from network import Server, Worker\n",
    "from torch.utils.tensorboard import SummaryWriter\n",
    "from torch.utils.data import Dataset, DataLoader\n",
    "from utils import Logger\n",
    "from fid_score import *\n",
    "from inception import *"
   ]
  },
  {
   "cell_type": "code",
   "execution_count": 2,
   "metadata": {},
   "outputs": [],
   "source": [
    "LEARNING_RATE = 2e-4  # could also use two lrs, one for gen and one for disc\n",
    "BATCH_SIZE = 64\n",
    "NOISE_DIM = 128\n",
    "NUM_EPOCHS = 50\n",
    "fid_batch_size = 20"
   ]
  },
  {
   "cell_type": "code",
   "execution_count": 3,
   "metadata": {},
   "outputs": [
    {
     "name": "stdout",
     "output_type": "stream",
     "text": [
      "{0: [0], 1: [0], 2: [0], 3: [0], 4: [0], 5: [0], 6: [0], 7: [0], 8: [0], 9: [0]}\n"
     ]
    }
   ],
   "source": [
    "num_workers = 1\n",
    "num_unique_users = num_workers\n",
    "num_classes = 10\n",
    "classes_per_user = 10\n",
    "\n",
    "logger = Logger(model_name='F2U',data_name='CIFAR10')\n",
    "dictionary = labels4clients(num_classes,classes_per_user,num_workers,num_unique_users,False)\n",
    "print(dictionary)"
   ]
  },
  {
   "cell_type": "code",
   "execution_count": 4,
   "metadata": {},
   "outputs": [
    {
     "name": "stdout",
     "output_type": "stream",
     "text": [
      "Files already downloaded and verified\n",
      "Files already downloaded and verified\n"
     ]
    }
   ],
   "source": [
    "trans_cifar = transforms.Compose([transforms.ToTensor(), transforms.Normalize((0.5, 0.5, 0.5), (0.5, 0.5, 0.5))])\n",
    "# trans_cifar = transforms.Compose([transforms.ToTensor()])\n",
    "dataset = datasets.CIFAR10(root='./datasets/cifar/', train=True, download=True, transform=trans_cifar)\n",
    "dataset_test = datasets.CIFAR10(root='./datasets/cifar/', train=False, download=True, transform=trans_cifar)\n",
    "dataloader_one = torch.utils.data.DataLoader(dataset, shuffle = True,batch_size=BATCH_SIZE)\n",
    "dataloader_test = torch.utils.data.DataLoader(dataset_test, shuffle = False,batch_size=10000)"
   ]
  },
  {
   "cell_type": "code",
   "execution_count": 5,
   "metadata": {},
   "outputs": [],
   "source": [
    "for img in dataloader_test:\n",
    "    test_imgs=img[0].to(dev)"
   ]
  },
  {
   "cell_type": "code",
   "execution_count": 6,
   "metadata": {},
   "outputs": [],
   "source": [
    "# print(dataset.data[0])\n",
    "# print(dataset.transforms(dataset.data[0],transforms.ToTensor()))\n",
    "# print(dataset.transforms(dataset.data[0],trans_cifar))"
   ]
  },
  {
   "cell_type": "code",
   "execution_count": 7,
   "metadata": {},
   "outputs": [
    {
     "name": "stdout",
     "output_type": "stream",
     "text": [
      "Normalize(mean=(0.5, 0.5, 0.5), std=(0.5, 0.5, 0.5))\n"
     ]
    },
    {
     "data": {
      "text/plain": [
       "tensor([[[-0.5373, -0.6627, -0.6078,  ...,  0.2392,  0.1922,  0.1608],\n",
       "         [-0.8745, -1.0000, -0.8588,  ..., -0.0353, -0.0667, -0.0431],\n",
       "         [-0.8039, -0.8745, -0.6157,  ..., -0.0745, -0.0588, -0.1451],\n",
       "         ...,\n",
       "         [ 0.6314,  0.5765,  0.5529,  ...,  0.2549, -0.5608, -0.5843],\n",
       "         [ 0.4118,  0.3569,  0.4588,  ...,  0.4431, -0.2392, -0.3490],\n",
       "         [ 0.3882,  0.3176,  0.4039,  ...,  0.6941,  0.1843, -0.0353]],\n",
       "\n",
       "        [[-0.5137, -0.6392, -0.6235,  ...,  0.0353, -0.0196, -0.0275],\n",
       "         [-0.8431, -1.0000, -0.9373,  ..., -0.3098, -0.3490, -0.3176],\n",
       "         [-0.8118, -0.9451, -0.7882,  ..., -0.3412, -0.3412, -0.4275],\n",
       "         ...,\n",
       "         [ 0.3333,  0.2000,  0.2627,  ...,  0.0431, -0.7569, -0.7333],\n",
       "         [ 0.0902, -0.0353,  0.1294,  ...,  0.1608, -0.5137, -0.5843],\n",
       "         [ 0.1294,  0.0118,  0.1137,  ...,  0.4431, -0.0745, -0.2784]],\n",
       "\n",
       "        [[-0.5059, -0.6471, -0.6627,  ..., -0.1529, -0.2000, -0.1922],\n",
       "         [-0.8431, -1.0000, -1.0000,  ..., -0.5686, -0.6078, -0.5529],\n",
       "         [-0.8353, -1.0000, -0.9373,  ..., -0.6078, -0.6078, -0.6706],\n",
       "         ...,\n",
       "         [-0.2471, -0.7333, -0.7961,  ..., -0.4510, -0.9451, -0.8431],\n",
       "         [-0.2471, -0.6706, -0.7647,  ..., -0.2627, -0.7333, -0.7333],\n",
       "         [-0.0902, -0.2627, -0.3176,  ...,  0.0980, -0.3412, -0.4353]]])"
      ]
     },
     "execution_count": 7,
     "metadata": {},
     "output_type": "execute_result"
    }
   ],
   "source": [
    "normalized = transforms.Normalize((0.5,0.5,0.5),(0.5,0.5,0.5))\n",
    "print(normalized)\n",
    "trans_cifar(dataset.data[0])"
   ]
  },
  {
   "cell_type": "code",
   "execution_count": 8,
   "metadata": {},
   "outputs": [],
   "source": [
    "# print(dataset.data.shape)\n",
    "# print(type(dataset))\n",
    "# print(dataloader_one.dataset.data.shape)\n",
    "# x,_ = dataloader_one.dataset[0]\n",
    "# print(x.shape)\n",
    "# print(x)"
   ]
  },
  {
   "cell_type": "code",
   "execution_count": 9,
   "metadata": {},
   "outputs": [],
   "source": [
    "x_train_normalized_np = np.empty((dataset.data.shape[0],dataset.data.shape[3],dataset.data.shape[1],dataset.data.shape[2]))\n",
    "for i in range(len(dataset)):\n",
    "    x_train_normalized_np[i] = trans_cifar(dataset.data[i])"
   ]
  },
  {
   "cell_type": "code",
   "execution_count": 10,
   "metadata": {},
   "outputs": [],
   "source": [
    "x_train = np.asarray(dataset.data)\n",
    "y_train = np.asarray(dataset.targets)\n",
    "x_clinet_list, y_client_list = distribute_data_labels4clients(x_train_normalized_np,y_train,dictionary,False)"
   ]
  },
  {
   "cell_type": "code",
   "execution_count": 11,
   "metadata": {},
   "outputs": [],
   "source": [
    "def getDist(y,num_classes,user_num):\n",
    "    ax = sns.countplot(x=y)\n",
    "    ax.set(title=\"Count of data classes for %s\" %user_num)\n",
    "    plt.show()"
   ]
  },
  {
   "cell_type": "code",
   "execution_count": 12,
   "metadata": {},
   "outputs": [
    {
     "name": "stdout",
     "output_type": "stream",
     "text": [
      "50000\n"
     ]
    },
    {
     "data": {
      "image/png": "[encoded data removed]",
      "text/plain": [
       "<Figure size 640x480 with 1 Axes>"
      ]
     },
     "metadata": {},
     "output_type": "display_data"
    }
   ],
   "source": [
    "for i in range (len(x_clinet_list)):\n",
    "    print(len(y_client_list[i]))\n",
    "    getDist(y_client_list[i],num_classes,i)"
   ]
  },
  {
   "cell_type": "code",
   "execution_count": 13,
   "metadata": {},
   "outputs": [],
   "source": [
    "if torch.cuda.is_available():\n",
    "    dev = \"cuda:0\"\n",
    "else:\n",
    "    dev = \"cpu\"\n",
    "dev = torch.device(dev)"
   ]
  },
  {
   "cell_type": "code",
   "execution_count": 14,
   "metadata": {},
   "outputs": [],
   "source": [
    "fic_model = InceptionV3().to(dev)"
   ]
  },
  {
   "cell_type": "code",
   "execution_count": 15,
   "metadata": {},
   "outputs": [],
   "source": [
    "# netG = Generator().to(dev)\n",
    "# netD = Discriminator().to(dev)\n",
    "# summary(netG,(128,1,1))\n",
    "# summary(netD,(3,32,32))"
   ]
  },
  {
   "cell_type": "code",
   "execution_count": 16,
   "metadata": {},
   "outputs": [],
   "source": [
    "main_server = Server(0,LEARNING_RATE)\n",
    "main_server.generator.train()\n",
    "workers = []\n",
    "for i in range(num_workers):\n",
    "    worker = Worker(i,LEARNING_RATE)\n",
    "    # x_clinet_list[i] = np.transpose(x_clinet_list[i],(0, 3, 1, 2))\n",
    "    worker.load_worker_data(x_clinet_list[i], y_client_list[i])\n",
    "    worker.discriminator.train()\n",
    "    workers.append(worker)\n",
    "    \n",
    "# summary(main_server.generator,(128,1,1))\n",
    "# summary(workers[0].discriminator,(3,32,32))"
   ]
  },
  {
   "cell_type": "code",
   "execution_count": 17,
   "metadata": {},
   "outputs": [],
   "source": [
    "criterion = nn.MSELoss()\n",
    "fixed_noise = torch.randn(36, NOISE_DIM, 1, 1).to(dev)\n",
    "\n",
    "worker_loaders = []\n",
    "\n",
    "for worker in workers:\n",
    "    # print(worker.x_data.shape)\n",
    "    worker_loaders.append([])\n",
    "    for batch_id, real in enumerate(DataLoader(dataset=worker.x_data,batch_size=BATCH_SIZE)):\n",
    "        worker_loaders[-1].append(real)"
   ]
  },
  {
   "cell_type": "code",
   "execution_count": 18,
   "metadata": {},
   "outputs": [
    {
     "name": "stdout",
     "output_type": "stream",
     "text": [
      "Epoch [0/50] Batch 0/782                  Loss D: 0.4976, loss G: 0.7430, FID Score: 409.2\n",
      "Epoch [0/50] Batch 100/782                  Loss D: 0.0202, loss G: 1.0473, FID Score: 492.4\n",
      "Epoch [0/50] Batch 200/782                  Loss D: 0.0140, loss G: 1.0317, FID Score: 445.3\n",
      "Epoch [0/50] Batch 300/782                  Loss D: 0.0167, loss G: 1.0087, FID Score: 424.2\n",
      "Epoch [0/50] Batch 400/782                  Loss D: 0.0227, loss G: 0.9668, FID Score: 394.7\n",
      "Epoch [0/50] Batch 500/782                  Loss D: 0.0279, loss G: 1.0672, FID Score: 439.1\n",
      "Epoch [0/50] Batch 600/782                  Loss D: 0.0227, loss G: 1.0143, FID Score: 408.2\n",
      "Epoch [0/50] Batch 700/782                  Loss D: 0.0125, loss G: 1.0008, FID Score: 495.2\n",
      "Epoch [1/50] Batch 0/782                  Loss D: 0.0178, loss G: 1.0119, FID Score: 484.6\n",
      "Epoch [1/50] Batch 100/782                  Loss D: 0.0218, loss G: 0.9984, FID Score: 450.8\n",
      "Epoch [1/50] Batch 200/782                  Loss D: 0.0166, loss G: 1.0150, FID Score: 404.0\n",
      "Epoch [1/50] Batch 300/782                  Loss D: 0.0183, loss G: 0.9185, FID Score: 398.7\n",
      "Epoch [1/50] Batch 400/782                  Loss D: 0.0117, loss G: 1.0345, FID Score: 410.6\n",
      "Epoch [1/50] Batch 500/782                  Loss D: 0.3840, loss G: 0.6643, FID Score: 384.0\n",
      "Epoch [1/50] Batch 600/782                  Loss D: 0.0453, loss G: 0.9308, FID Score: 421.5\n",
      "Epoch [1/50] Batch 700/782                  Loss D: 0.0287, loss G: 0.9592, FID Score: 563.2\n",
      "Epoch [2/50] Batch 0/782                  Loss D: 0.1298, loss G: 0.5776, FID Score: 381.8\n",
      "Epoch [2/50] Batch 100/782                  Loss D: 0.0610, loss G: 0.8618, FID Score: 503.6\n",
      "Epoch [2/50] Batch 200/782                  Loss D: 0.0387, loss G: 0.9353, FID Score: 404.8\n",
      "Epoch [2/50] Batch 300/782                  Loss D: 0.0882, loss G: 0.8983, FID Score: 358.2\n",
      "Epoch [2/50] Batch 400/782                  Loss D: 0.0907, loss G: 0.7914, FID Score: 490.8\n",
      "Epoch [2/50] Batch 500/782                  Loss D: 0.0369, loss G: 1.1136, FID Score: 396.6\n",
      "Epoch [2/50] Batch 600/782                  Loss D: 0.0420, loss G: 1.0142, FID Score: 355.5\n",
      "Epoch [2/50] Batch 700/782                  Loss D: 0.0368, loss G: 0.9943, FID Score: 363.7\n",
      "Epoch [3/50] Batch 0/782                  Loss D: 0.0505, loss G: 0.8796, FID Score: 368.4\n",
      "Epoch [3/50] Batch 100/782                  Loss D: 0.0918, loss G: 1.0485, FID Score: 393.7\n",
      "Epoch [3/50] Batch 200/782                  Loss D: 0.0891, loss G: 0.7164, FID Score: 353.9\n",
      "Epoch [3/50] Batch 300/782                  Loss D: 0.1211, loss G: 1.0383, FID Score: 384.8\n",
      "Epoch [3/50] Batch 400/782                  Loss D: 0.0786, loss G: 0.7276, FID Score: 328.1\n",
      "Epoch [3/50] Batch 500/782                  Loss D: 0.0730, loss G: 0.8822, FID Score: 326.1\n",
      "Epoch [3/50] Batch 600/782                  Loss D: 0.0916, loss G: 0.8595, FID Score: 270.4\n",
      "Epoch [3/50] Batch 700/782                  Loss D: 0.1235, loss G: 0.7785, FID Score: 347.5\n",
      "Epoch [4/50] Batch 0/782                  Loss D: 0.0588, loss G: 1.0540, FID Score: 402.0\n",
      "Epoch [4/50] Batch 100/782                  Loss D: 0.0668, loss G: 0.8479, FID Score: 382.7\n",
      "Epoch [4/50] Batch 200/782                  Loss D: 0.1027, loss G: 0.7947, FID Score: 327.4\n",
      "Epoch [4/50] Batch 300/782                  Loss D: 0.1330, loss G: 0.7154, FID Score: 320.4\n",
      "Epoch [4/50] Batch 400/782                  Loss D: 0.0877, loss G: 1.0317, FID Score: 311.7\n",
      "Epoch [4/50] Batch 500/782                  Loss D: 0.0613, loss G: 1.0150, FID Score: 318.0\n",
      "Epoch [4/50] Batch 600/782                  Loss D: 0.0682, loss G: 0.7771, FID Score: 284.0\n",
      "Epoch [4/50] Batch 700/782                  Loss D: 0.0892, loss G: 0.7294, FID Score: 297.6\n",
      "Epoch [5/50] Batch 0/782                  Loss D: 0.0573, loss G: 0.9587, FID Score: 295.3\n",
      "Epoch [5/50] Batch 100/782                  Loss D: 0.0593, loss G: 1.1904, FID Score: 360.1\n",
      "Epoch [5/50] Batch 200/782                  Loss D: 0.0834, loss G: 0.9739, FID Score: 292.1\n",
      "Epoch [5/50] Batch 300/782                  Loss D: 0.0937, loss G: 0.9281, FID Score: 270.7\n",
      "Epoch [5/50] Batch 400/782                  Loss D: 0.1366, loss G: 0.6082, FID Score: 261.8\n",
      "Epoch [5/50] Batch 500/782                  Loss D: 0.1504, loss G: 0.8217, FID Score: 277.3\n",
      "Epoch [5/50] Batch 600/782                  Loss D: 0.1086, loss G: 1.0436, FID Score: 312.7\n",
      "Epoch [5/50] Batch 700/782                  Loss D: 0.0861, loss G: 0.7399, FID Score: 305.0\n",
      "Epoch [6/50] Batch 0/782                  Loss D: 0.0529, loss G: 0.8059, FID Score: 250.8\n",
      "Epoch [6/50] Batch 100/782                  Loss D: 0.0614, loss G: 0.8527, FID Score: 313.9\n",
      "Epoch [6/50] Batch 200/782                  Loss D: 0.0844, loss G: 1.0576, FID Score: 244.6\n",
      "Epoch [6/50] Batch 300/782                  Loss D: 0.0556, loss G: 0.9757, FID Score: 293.5\n",
      "Epoch [6/50] Batch 400/782                  Loss D: 0.0817, loss G: 0.8547, FID Score: 248.1\n",
      "Epoch [6/50] Batch 500/782                  Loss D: 0.0900, loss G: 0.9792, FID Score: 359.6\n",
      "Epoch [6/50] Batch 600/782                  Loss D: 0.0856, loss G: 0.9605, FID Score: 302.2\n"
     ]
    }
   ],
   "source": [
    "# GAN archicture trial\n",
    "start = 50\n",
    "end = start + NUM_EPOCHS\n",
    "for epoch in range(start,end):\n",
    "    for i, data in enumerate(dataloader_one):\n",
    "        worker = workers[0]\n",
    "        noise = torch.randn(BATCH_SIZE, NOISE_DIM, 1,1).to(dev)\n",
    "        fake = main_server.generator(noise)\n",
    "        real, _ = data\n",
    "\n",
    "        ### Train Discriminator: max log(D(x)) + log(1 - D(G(z)))\n",
    "        \n",
    "        current_disc_real = worker.discriminator(real).reshape(-1)\n",
    "        # print('current discriminator real output', current_disc_real)\n",
    "        worker.loss_disc_real = criterion(current_disc_real, torch.ones_like(current_disc_real))\n",
    "        # print('worker loss_disc_real output', current_disc_real)\n",
    "        current_disc_fake = worker.discriminator(fake.detach()).reshape(-1)\n",
    "        worker.loss_disc_fake = criterion(current_disc_fake, torch.zeros_like(current_disc_fake))\n",
    "        worker.loss_disc = (worker.loss_disc_real + worker.loss_disc_fake) / 2\n",
    "        worker.discriminator.zero_grad()\n",
    "        worker.loss_disc.backward()\n",
    "        # total_norm_d =0\n",
    "        # for p in list(filter(lambda p: p.grad is not None, worker.discriminator.parameters())):\n",
    "        #     total_norm_d += p.grad.detach().data.norm(2).item()** 2\n",
    "        # total_norm_d = total_norm_d ** 0.5\n",
    "\n",
    "        worker.d_optimizer.step()\n",
    "\n",
    "        ### Train Generator: min log(1 - D(G(z))) <-> max log(D(G(z))\n",
    "        \n",
    "        output = worker.discriminator(fake).reshape(-1)\n",
    "        main_server.loss_gen = criterion(output, torch.ones_like(output))\n",
    "        main_server.generator.zero_grad()\n",
    "        main_server.loss_gen.backward()\n",
    "\n",
    "        # total_norm_g =0\n",
    "        # for p in list(filter(lambda p: p.grad is not None, main_server.generator.parameters())):\n",
    "        #     total_norm_g += p.grad.detach().data.norm(2).item()** 2\n",
    "        # total_norm_g = total_norm_g ** 0.5\n",
    "\n",
    "        main_server.g_optimizer.step()\n",
    "\n",
    "\n",
    "        logger.log(worker.loss_disc.item(),main_server.loss_gen.item(),worker.loss_disc_real, worker.loss_disc_fake,epoch,i,len(dataloader_one))\n",
    "\n",
    "        # Print loss\n",
    "        if i % 100 == 0:    \n",
    "            fid_z = torch.randn(fid_batch_size, NOISE_DIM, 1,1).to(dev)\n",
    "            gen_imgs = main_server.generator(fid_z.detach())\n",
    "            mu_gen, sigma_gen = calculate_activation_statistics(gen_imgs, fic_model, batch_size=fid_batch_size,cuda=True)\n",
    "            mu_test, sigma_test = calculate_activation_statistics(test_imgs[:fid_batch_size], fic_model, batch_size=fid_batch_size)\n",
    "            fid = calculate_frechet_distance(mu_gen, sigma_gen, mu_test, sigma_test)\n",
    "            logger.log_fid(fid,epoch,i,len(dataloader_one))\n",
    "\n",
    "            print(\n",
    "                f\"Epoch [{epoch}/{NUM_EPOCHS}] Batch {i}/{len(dataloader_one)} \\\n",
    "                 Loss D: {worker.loss_disc:.4f}, loss G: {main_server.loss_gen:.4f}, FID Score: {fid:.1f}\"\n",
    "            )\n",
    "            # print(\n",
    "            #     f\"Epoch [{epoch}/{NUM_EPOCHS}] Batch {i}/{len(dataloader_one)} \\\n",
    "            #      Loss D: {worker.loss_disc:.4f}, loss G: {main_server.loss_gen:.4f}\"\n",
    "            # )\n",
    "\n",
    "        if i% 500 == 0:\n",
    "            with torch.no_grad():\n",
    "                fake = main_server.generator(fixed_noise)\n",
    "                logger.log_images(fake,len(fake), epoch, i, len(dataloader_one))\n"
   ]
  },
  {
   "cell_type": "code",
   "execution_count": null,
   "metadata": {},
   "outputs": [],
   "source": [
    "# main training loop for F2U\n",
    "start = 0\n",
    "end = start + NUM_EPOCHS\n",
    "for epoch in range(start,end):\n",
    "    for batch_id in range(len(worker_loaders[0])):\n",
    "\n",
    "        highest_loss = 0\n",
    "        chosen_discriminator = None\n",
    "        noise = torch.randn(BATCH_SIZE, NOISE_DIM, 1,1).to(dev)\n",
    "        fake = main_server.generator(noise)\n",
    "\n",
    "        for worker_id, worker in enumerate(workers):\n",
    "            current_worker_real = worker_loaders[worker_id][batch_id].float().to(dev)\n",
    "            # print(real.shape)\n",
    "\n",
    "            ### Train Discriminator: max log(D(x)) + log(1 - D(G(z)))\n",
    "            current_disc_real = worker.discriminator(current_worker_real).reshape(-1)\n",
    "            worker.loss_disc_real = criterion(current_disc_real, torch.ones_like(current_disc_real))\n",
    "            current_disc_fake = worker.discriminator(fake.detach()).reshape(-1)\n",
    "            worker.loss_disc_fake = criterion(current_disc_fake, torch.zeros_like(current_disc_fake))\n",
    "            worker.loss_disc = (worker.loss_disc_real + worker.loss_disc_fake) / 2\n",
    "            worker.discriminator.zero_grad()\n",
    "            worker.loss_disc.backward()\n",
    "            worker.d_optimizer.step()\n",
    "            # print(worker.loss_disc_fake, i)\n",
    "            if highest_loss < worker.loss_disc_fake:\n",
    "                highest_loss = worker.loss_disc_fake\n",
    "                chosen_discriminator = worker_id\n",
    "        # print(f\"chosen worker is {chosen_discriminator} with loss of: {highest_loss.item():.4f}\")\n",
    "        chosen_worker = workers[chosen_discriminator]\n",
    "        \n",
    "\n",
    "        ### Train Generator: min log(1 - D(G(z))) <-> max log(D(G(z))\n",
    "        output = chosen_worker.discriminator(fake).reshape(-1)\n",
    "        main_server.loss_gen = criterion(output, torch.ones_like(output))\n",
    "        main_server.generator.zero_grad()\n",
    "        main_server.loss_gen.backward()\n",
    "        main_server.g_optimizer.step()\n",
    "\n",
    "        logger.log(chosen_worker.loss_disc.item(),main_server.loss_gen.item(),chosen_worker.loss_disc_real, chosen_worker.loss_disc_fake,epoch,batch_id,len(worker_loaders[0]))\n",
    "\n",
    "        # Print loss\n",
    "        if batch_id % 100 == 0:\n",
    "            fid_z = torch.randn(fid_batch_size, NOISE_DIM, 1,1).to(dev)\n",
    "            gen_imgs = main_server.generator(fid_z.detach())\n",
    "            mu_gen, sigma_gen = calculate_activation_statistics(gen_imgs, fic_model, batch_size=fid_batch_size,cuda=True)\n",
    "            mu_test, sigma_test = calculate_activation_statistics(test_imgs[:fid_batch_size], fic_model, batch_size=fid_batch_size)\n",
    "            fid = calculate_frechet_distance(mu_gen, sigma_gen, mu_test, sigma_test)\n",
    "            logger.log_fid(fid,epoch,batch_id,len(worker_loaders[0]))\n",
    "\n",
    "            print(\n",
    "                f\"Epoch [{epoch}/{NUM_EPOCHS}] Batch {batch_id}/{len(worker_loaders[0])} \\\n",
    "                 Loss D: {chosen_worker.loss_disc:.4f}, loss G: {main_server.loss_gen:.4f}, FID Score: {fid:.1f}\"\n",
    "            )\n",
    "        if batch_id% 500 == 0:\n",
    "            with torch.no_grad():\n",
    "                fake = main_server.generator(fixed_noise)\n",
    "                logger.log_images(fake,len(fake), epoch, batch_id, len(worker_loaders[0]))\n"
   ]
  },
  {
   "cell_type": "code",
   "execution_count": null,
   "metadata": {},
   "outputs": [],
   "source": [
    "# dataloaders = []\n",
    "\n",
    "# for worker in workers:\n",
    "#     # print(worker.x_data.shape)\n",
    "#     dataloaders.append(DataLoader(dataset=worker.x_data,batch_size=BATCH_SIZE))\n",
    "\n",
    "# i = iter(dataloaders[0])\n",
    "# print(next(i))"
   ]
  },
  {
   "cell_type": "code",
   "execution_count": null,
   "metadata": {},
   "outputs": [],
   "source": [
    "# criterion = nn.MSELoss()\n",
    "# NOISE_DIM = 128\n",
    "# fixed_noise = torch.randn(32, NOISE_DIM, 1, 1).to(dev)\n",
    "# writer_real = SummaryWriter(f\"logs/real\")\n",
    "# writer_fake = SummaryWriter(f\"logs/fake\")\n",
    "# step = 0\n",
    "\n",
    "# for epoch in range(NUM_EPOCHS):\n",
    "#     highest_loss = 0\n",
    "#     chosen_discriminator = None\n",
    "#     for i, worker in enumerate(workers):\n",
    "#         print(worker.x_data.shape)\n",
    "#         dataloader = DataLoader(dataset=worker.x_data,batch_size=BATCH_SIZE)\n",
    "#         for batch_id, real in enumerate(dataloader):\n",
    "#             real = real.float().to(dev)\n",
    "#             # print(real.shape)\n",
    "#             # print(real)\n",
    "#             noise = torch.randn(BATCH_SIZE, NOISE_DIM, 1,1).to(dev)\n",
    "#             fake = main_server.generator(noise)\n",
    "\n",
    "#             ### Train Discriminator: max log(D(x)) + log(1 - D(G(z)))\n",
    "#             disc_real = worker.discriminator(real).reshape(-1)\n",
    "#             worker.loss_disc_real = criterion(disc_real, torch.ones_like(disc_real))\n",
    "#             disc_fake = worker.discriminator(fake.detach()).reshape(-1)\n",
    "#             worker.loss_disc_fake = criterion(disc_fake, torch.zeros_like(disc_fake))\n",
    "#             loss_disc = (worker.loss_disc_real + worker.loss_disc_fake) / 2\n",
    "#             worker.discriminator.zero_grad()\n",
    "#             loss_disc.backward()\n",
    "#             worker.d_optimizer.step()\n",
    "#             if batch_id % 20 == 0:\n",
    "#                 print(\n",
    "#                     f\"Worker: {i} Epoch [{epoch}/{NUM_EPOCHS}] Batch {batch_id}/{len(dataloader)} \\\n",
    "#                         Loss D: {loss_disc:.4f}\"\n",
    "#                 )\n",
    "#         # print(worker.loss_disc_fake, i)\n",
    "#         if highest_loss < worker.loss_disc_fake:\n",
    "#             highest_loss = worker.loss_disc_fake\n",
    "#             chosen_discriminator = i\n",
    "#         print(f\"chosen worker is {chosen_discriminator} with loss of: {highest_loss.item()}\")\n",
    "#     dataloader = DataLoader(dataset=workers[chosen_discriminator].x_data,batch_size=BATCH_SIZE)\n",
    "        \n",
    "        \n"
   ]
  },
  {
   "cell_type": "code",
   "execution_count": null,
   "metadata": {},
   "outputs": [],
   "source": [
    "    ### Train Generator: min log(1 - D(G(z))) <-> max log(D(G(z))\n",
    "    # output = disc(fake).reshape(-1)\n",
    "    # loss_gen = criterion(output, torch.ones_like(output))\n",
    "    # gen.zero_grad()\n",
    "    # loss_gen.backward()\n",
    "    # opt_gen.step()\n",
    "\n",
    "    # for batch_idx, (real, _) in enumerate(dataloader):\n",
    "    #     real = real.to(device)\n",
    "    #     noise = torch.randn(BATCH_SIZE, NOISE_DIM, 1, 1).to(device)\n",
    "    #     fake = gen(noise)\n",
    "\n",
    "    #     ### Train Discriminator: max log(D(x)) + log(1 - D(G(z)))\n",
    "    #     disc_real = disc(real).reshape(-1)\n",
    "    #     loss_disc_real = criterion(disc_real, torch.ones_like(disc_real))\n",
    "    #     disc_fake = disc(fake.detach()).reshape(-1)\n",
    "    #     loss_disc_fake = criterion(disc_fake, torch.zeros_like(disc_fake))\n",
    "    #     loss_disc = (loss_disc_real + loss_disc_fake) / 2\n",
    "    #     disc.zero_grad()\n",
    "    #     loss_disc.backward()\n",
    "    #     opt_disc.step()\n",
    "\n",
    "    #     ### Train Generator: min log(1 - D(G(z))) <-> max log(D(G(z))\n",
    "    #     output = disc(fake).reshape(-1)\n",
    "    #     loss_gen = criterion(output, torch.ones_like(output))\n",
    "    #     gen.zero_grad()\n",
    "    #     loss_gen.backward()\n",
    "    #     opt_gen.step()\n",
    "\n",
    "    #     # Print losses occasionally and print to tensorboard\n",
    "    #     if batch_idx % 100 == 0:\n",
    "    #         print(\n",
    "    #             f\"Epoch [{epoch}/{NUM_EPOCHS}] Batch {batch_idx}/{len(dataloader)} \\\n",
    "    #               Loss D: {loss_disc:.4f}, loss G: {loss_gen:.4f}\"\n",
    "    #         )\n",
    "\n",
    "    #         with torch.no_grad():\n",
    "    #             fake = gen(fixed_noise)\n",
    "    #             # take out (up to) 32 examples\n",
    "    #             img_grid_real = torchvision.utils.make_grid(\n",
    "    #                 real[:32], normalize=True\n",
    "    #             )\n",
    "    #             img_grid_fake = torchvision.utils.make_grid(\n",
    "    #                 fake[:32], normalize=True\n",
    "    #             )\n",
    "\n",
    "    #             writer_real.add_image(\"Real\", img_grid_real, global_step=step)\n",
    "    #             writer_fake.add_image(\"Fake\", img_grid_fake, global_step=step)\n",
    "\n",
    "    #         step += 1"
   ]
  }
 ],
 "metadata": {
  "kernelspec": {
   "display_name": "Python 3.10.6 64-bit",
   "language": "python",
   "name": "python3"
  },
  "language_info": {
   "codemirror_mode": {
    "name": "ipython",
    "version": 3
   },
   "file_extension": ".py",
   "mimetype": "text/x-python",
   "name": "python",
   "nbconvert_exporter": "python",
   "pygments_lexer": "ipython3",
   "version": "3.10.6"
  },
  "orig_nbformat": 4,
  "vscode": {
   "interpreter": {
    "hash": "26de051ba29f2982a8de78e945f0abaf191376122a1563185a90213a26c5da77"
   }
  }
 },
 "nbformat": 4,
 "nbformat_minor": 2
}
