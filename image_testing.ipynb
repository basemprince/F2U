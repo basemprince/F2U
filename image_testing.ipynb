{
 "cells": [
  {
   "cell_type": "code",
   "execution_count": null,
   "metadata": {},
   "outputs": [],
   "source": [
    "from torchvision import datasets, transforms, utils\n",
    "import matplotlib.pyplot as plt\n",
    "import numpy as np\n",
    "import torch\n",
    "import torch.nn as nn"
   ]
  },
  {
   "cell_type": "code",
   "execution_count": null,
   "metadata": {},
   "outputs": [],
   "source": [
    "trans_cifar = transforms.Compose([transforms.ToTensor(), transforms.Normalize((0.5, 0.5, 0.5), (0.5, 0.5, 0.5))])\n",
    "trans_cifar = transforms.Compose([transforms.ToTensor()])\n",
    "trans_cifar1 = transforms.Compose([transforms.Resize (64), transforms.ToTensor()])\n",
    "dataset0 = datasets.CIFAR10(root='./datasets/cifar/', train=True, download=True, transform=None)\n",
    "dataset = datasets.CIFAR10(root='./datasets/cifar/', train=True, download=True, transform=trans_cifar)\n",
    "dataset1 = datasets.CIFAR10(root='./datasets/cifar/', train=True, download=True, transform=trans_cifar1)"
   ]
  },
  {
   "cell_type": "code",
   "execution_count": null,
   "metadata": {},
   "outputs": [],
   "source": [
    "# transformed = dataset1.transforms(dataset1.data[0],transforms.ToTensor())\n",
    "# # print(type(ztransformed))\n",
    "# # print(min(transformed),max(transformed))\n",
    "# # print(len(transformed))\n",
    "# print(len(transformed[0][0]))\n",
    "# for i in transformed[0]:\n",
    "#     for j in i:\n",
    "#         print(max(j).item(), min(j).item())\n",
    "#         # for k in j:\n",
    "#         #     print(k)\n",
    "#         #     print('---------------')"
   ]
  },
  {
   "cell_type": "code",
   "execution_count": null,
   "metadata": {},
   "outputs": [],
   "source": [
    "image = (dataset.data[0])\n",
    "print(type(image))\n",
    "plt.figure('1')\n",
    "plt.imshow(image)\n",
    "\n",
    "plt.figure('2')\n",
    "plt.hist(image.ravel(), bins=50, density=False)\n",
    "plt.xlabel(\"pixel values\")\n",
    "plt.ylabel(\"frequency\")\n",
    "plt.show()\n",
    "image = (dataset.data[0])\n",
    "transform = transforms.Compose([\n",
    "    transforms.ToTensor()\n",
    "])\n",
    "\n",
    "img_tr = transform(image)\n",
    "\n",
    "img_np = np.array(img_tr)\n",
    "plt.figure('3')\n",
    "plt.hist(img_np.ravel(), bins=50, density=False)\n",
    "plt.xlabel(\"pixel values\")\n",
    "plt.ylabel(\"frequency\")\n",
    "\n",
    "image = (dataset.data[0])\n",
    "img_tr = trans_cifar(image)\n",
    "\n",
    "img_np = np.array(img_tr)\n",
    "plt.figure('4')\n",
    "plt.hist(img_np.ravel(), bins=50, density=False)\n",
    "plt.xlabel(\"pixel values\")\n",
    "plt.ylabel(\"frequency\")"
   ]
  },
  {
   "cell_type": "code",
   "execution_count": null,
   "metadata": {},
   "outputs": [],
   "source": [
    "trainloader1 = torch.utils.data.DataLoader(dataset1, shuffle = True,batch_size=4) \n",
    "trainloader = torch.utils.data.DataLoader(dataset, shuffle = True,batch_size=4)\n",
    "dataiter1 = iter(trainloader1)\n",
    "dataiter = iter(trainloader)\n",
    "\n",
    "images1, _ = dataiter1.next()\n",
    "images, _ = dataiter.next()\n",
    "\n",
    "img1= utils.make_grid(images1)\n",
    "img= utils.make_grid(images)\n",
    "\n",
    "npimg = img.numpy()\n",
    "npimg = np.transpose(npimg, (1, 2, 0))\n",
    "\n",
    "plt.imshow(npimg)\n",
    "\n",
    "\n"
   ]
  },
  {
   "cell_type": "code",
   "execution_count": null,
   "metadata": {},
   "outputs": [],
   "source": [
    "print(images1.shape)\n",
    "m = nn.ConvTranspose2d(in_channels=3, out_channels=3, kernel_size=4, stride=2, padding=1, bias = False)\n",
    "# image=np.transpose((1, 2, 0))\n",
    "# image=torch.tensor(images1)\n",
    "\n",
    "output = m(images)\n",
    "# print(output.shape)\n",
    "# output = np.transpose(output.cpu().detach().numpy(),(0,2,3,1))\n",
    "# print(output[0].shape)\n",
    "# plt.imshow(output[0])\n",
    "img= utils.make_grid(output)\n",
    "\n",
    "npimg = img.numpy()\n",
    "npimg = np.transpose(npimg, (1, 2, 0))\n",
    "print(npimg.shape)\n",
    "plt.imshow(npimg)"
   ]
  },
  {
   "cell_type": "code",
   "execution_count": null,
   "metadata": {},
   "outputs": [],
   "source": [
    "npimg1 = img1.numpy()\n",
    "npimg1 = np.transpose(npimg1, (1, 2, 0))\n",
    "\n",
    "plt.imshow(npimg1)\n"
   ]
  },
  {
   "cell_type": "code",
   "execution_count": null,
   "metadata": {},
   "outputs": [],
   "source": [
    "torch.randn(32)"
   ]
  },
  {
   "cell_type": "code",
   "execution_count": null,
   "metadata": {},
   "outputs": [],
   "source": [
    "worker_chosen_counter= [6 for i in range(5)]\n",
    "plt.bar(range(len(worker_chosen_counter)),worker_chosen_counter)\n",
    "plt.xlabel('worker number')\n",
    "plt.ylabel('chosen counter')\n",
    "plt.show()"
   ]
  },
  {
   "cell_type": "code",
   "execution_count": null,
   "metadata": {},
   "outputs": [],
   "source": [
    "x = torch.tensor(3.,requires_grad=True)\n",
    "print(x,\",\",x.grad)"
   ]
  },
  {
   "cell_type": "code",
   "execution_count": null,
   "metadata": {},
   "outputs": [],
   "source": [
    "z = torch.tensor(2.,requires_grad=True)\n",
    "print(z,\",\", z.grad)"
   ]
  },
  {
   "cell_type": "code",
   "execution_count": null,
   "metadata": {},
   "outputs": [],
   "source": [
    "y = x.detach()**2 + z**3\n",
    "print(y)\n",
    "y.backward()"
   ]
  },
  {
   "cell_type": "code",
   "execution_count": null,
   "metadata": {},
   "outputs": [],
   "source": [
    "s = x**4 + z**2\n",
    "print(s)\n",
    "s.backward()"
   ]
  },
  {
   "cell_type": "code",
   "execution_count": null,
   "metadata": {},
   "outputs": [],
   "source": [
    "print(x.grad,z.grad)"
   ]
  },
  {
   "cell_type": "code",
   "execution_count": null,
   "metadata": {},
   "outputs": [],
   "source": [
    "x.grad.zero_()"
   ]
  },
  {
   "cell_type": "code",
   "execution_count": null,
   "metadata": {},
   "outputs": [],
   "source": [
    "from gan_model import Discriminator, Generator\n",
    "from torch.utils.tensorboard import SummaryWriter"
   ]
  },
  {
   "cell_type": "code",
   "execution_count": null,
   "metadata": {},
   "outputs": [],
   "source": [
    "netG = Generator().to(\"cuda:0\")\n",
    "netD1 = Discriminator().to(\"cuda:0\")\n",
    "netD2 = Discriminator().to(\"cuda:0\")\n",
    "input_d = torch.randn((2000,3,32,32)).to(\"cuda:0\")\n",
    "input_g = torch.randn((2000,128,1,1)).to(\"cuda:0\")\n",
    "\n",
    "output_disc = netD1(input_d)\n",
    "output_gen = netG(input_g)"
   ]
  },
  {
   "cell_type": "code",
   "execution_count": null,
   "metadata": {},
   "outputs": [],
   "source": [
    "for param in netG.parameters():\n",
    "    print(param)"
   ]
  },
  {
   "cell_type": "code",
   "execution_count": null,
   "metadata": {},
   "outputs": [],
   "source": [
    "writer = SummaryWriter(\"/output\")"
   ]
  },
  {
   "cell_type": "code",
   "execution_count": null,
   "metadata": {},
   "outputs": [],
   "source": [
    "writer.add_graph(netD,output_gen)"
   ]
  }
 ],
 "metadata": {
  "kernelspec": {
   "display_name": "Python 3.10.6 64-bit",
   "language": "python",
   "name": "python3"
  },
  "language_info": {
   "codemirror_mode": {
    "name": "ipython",
    "version": 3
   },
   "file_extension": ".py",
   "mimetype": "text/x-python",
   "name": "python",
   "nbconvert_exporter": "python",
   "pygments_lexer": "ipython3",
   "version": "3.10.6"
  },
  "orig_nbformat": 4,
  "vscode": {
   "interpreter": {
    "hash": "26de051ba29f2982a8de78e945f0abaf191376122a1563185a90213a26c5da77"
   }
  }
 },
 "nbformat": 4,
 "nbformat_minor": 2
}
