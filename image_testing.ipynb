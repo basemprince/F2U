{
 "cells": [
  {
   "cell_type": "code",
   "execution_count": 1,
   "metadata": {},
   "outputs": [],
   "source": [
    "from torchvision import datasets, transforms, utils\n",
    "import matplotlib.pyplot as plt\n",
    "import numpy as np\n",
    "import torch\n",
    "import torch.nn as nn"
   ]
  },
  {
   "cell_type": "code",
   "execution_count": null,
   "metadata": {},
   "outputs": [],
   "source": [
    "trans_cifar = transforms.Compose([transforms.ToTensor(), transforms.Normalize((0.5, 0.5, 0.5), (0.5, 0.5, 0.5))])\n",
    "trans_cifar = transforms.Compose([transforms.ToTensor()])\n",
    "trans_cifar1 = transforms.Compose([transforms.Resize (64), transforms.ToTensor()])\n",
    "dataset0 = datasets.CIFAR10(root='./datasets/cifar/', train=True, download=True, transform=None)\n",
    "dataset = datasets.CIFAR10(root='./datasets/cifar/', train=True, download=True, transform=trans_cifar)\n",
    "dataset1 = datasets.CIFAR10(root='./datasets/cifar/', train=True, download=True, transform=trans_cifar1)"
   ]
  },
  {
   "cell_type": "code",
   "execution_count": null,
   "metadata": {},
   "outputs": [],
   "source": [
    "# transformed = dataset1.transforms(dataset1.data[0],transforms.ToTensor())\n",
    "# # print(type(ztransformed))\n",
    "# # print(min(transformed),max(transformed))\n",
    "# # print(len(transformed))\n",
    "# print(len(transformed[0][0]))\n",
    "# for i in transformed[0]:\n",
    "#     for j in i:\n",
    "#         print(max(j).item(), min(j).item())\n",
    "#         # for k in j:\n",
    "#         #     print(k)\n",
    "#         #     print('---------------')"
   ]
  },
  {
   "cell_type": "code",
   "execution_count": null,
   "metadata": {},
   "outputs": [],
   "source": [
    "image = (dataset.data[0])\n",
    "print(type(image))\n",
    "plt.figure('1')\n",
    "plt.imshow(image)\n",
    "\n",
    "plt.figure('2')\n",
    "plt.hist(image.ravel(), bins=50, density=False)\n",
    "plt.xlabel(\"pixel values\")\n",
    "plt.ylabel(\"frequency\")\n",
    "plt.show()\n",
    "image = (dataset.data[0])\n",
    "transform = transforms.Compose([\n",
    "    transforms.ToTensor()\n",
    "])\n",
    "\n",
    "img_tr = transform(image)\n",
    "\n",
    "img_np = np.array(img_tr)\n",
    "plt.figure('3')\n",
    "plt.hist(img_np.ravel(), bins=50, density=False)\n",
    "plt.xlabel(\"pixel values\")\n",
    "plt.ylabel(\"frequency\")\n",
    "\n",
    "image = (dataset.data[0])\n",
    "img_tr = trans_cifar(image)\n",
    "\n",
    "img_np = np.array(img_tr)\n",
    "plt.figure('4')\n",
    "plt.hist(img_np.ravel(), bins=50, density=False)\n",
    "plt.xlabel(\"pixel values\")\n",
    "plt.ylabel(\"frequency\")"
   ]
  },
  {
   "cell_type": "code",
   "execution_count": null,
   "metadata": {},
   "outputs": [],
   "source": [
    "trainloader1 = torch.utils.data.DataLoader(dataset1, shuffle = True,batch_size=4) \n",
    "trainloader = torch.utils.data.DataLoader(dataset, shuffle = True,batch_size=4)\n",
    "dataiter1 = iter(trainloader1)\n",
    "dataiter = iter(trainloader)\n",
    "\n",
    "images1, _ = dataiter1.next()\n",
    "images, _ = dataiter.next()\n",
    "\n",
    "img1= utils.make_grid(images1)\n",
    "img= utils.make_grid(images)\n",
    "\n",
    "npimg = img.numpy()\n",
    "npimg = np.transpose(npimg, (1, 2, 0))\n",
    "\n",
    "plt.imshow(npimg)\n",
    "\n",
    "\n"
   ]
  },
  {
   "cell_type": "code",
   "execution_count": null,
   "metadata": {},
   "outputs": [],
   "source": [
    "print(images1.shape)\n",
    "m = nn.ConvTranspose2d(in_channels=3, out_channels=3, kernel_size=4, stride=2, padding=1, bias = False)\n",
    "# image=np.transpose((1, 2, 0))\n",
    "# image=torch.tensor(images1)\n",
    "\n",
    "output = m(images)\n",
    "# print(output.shape)\n",
    "# output = np.transpose(output.cpu().detach().numpy(),(0,2,3,1))\n",
    "# print(output[0].shape)\n",
    "# plt.imshow(output[0])\n",
    "img= utils.make_grid(output)\n",
    "\n",
    "npimg = img.numpy()\n",
    "npimg = np.transpose(npimg, (1, 2, 0))\n",
    "print(npimg.shape)\n",
    "plt.imshow(npimg)"
   ]
  },
  {
   "cell_type": "code",
   "execution_count": null,
   "metadata": {},
   "outputs": [],
   "source": [
    "npimg1 = img1.numpy()\n",
    "npimg1 = np.transpose(npimg1, (1, 2, 0))\n",
    "\n",
    "plt.imshow(npimg1)\n"
   ]
  },
  {
   "cell_type": "code",
   "execution_count": null,
   "metadata": {},
   "outputs": [],
   "source": [
    "torch.randn(32)"
   ]
  },
  {
   "cell_type": "code",
   "execution_count": null,
   "metadata": {},
   "outputs": [],
   "source": [
    "worker_chosen_counter= [6 for i in range(5)]\n",
    "plt.bar(range(len(worker_chosen_counter)),worker_chosen_counter)\n",
    "plt.xlabel('worker number')\n",
    "plt.ylabel('chosen counter')\n",
    "plt.show()"
   ]
  },
  {
   "cell_type": "code",
   "execution_count": null,
   "metadata": {},
   "outputs": [],
   "source": [
    "x = torch.tensor(3.,requires_grad=True)\n",
    "print(x,\",\",x.grad)"
   ]
  },
  {
   "cell_type": "code",
   "execution_count": null,
   "metadata": {},
   "outputs": [],
   "source": [
    "z = torch.tensor(2.,requires_grad=True)\n",
    "print(z,\",\", z.grad)"
   ]
  },
  {
   "cell_type": "code",
   "execution_count": null,
   "metadata": {},
   "outputs": [],
   "source": [
    "y = x.detach()**2 + z**3\n",
    "print(y)\n",
    "y.backward()"
   ]
  },
  {
   "cell_type": "code",
   "execution_count": null,
   "metadata": {},
   "outputs": [],
   "source": [
    "s = x**4 + z**2\n",
    "print(s)\n",
    "s.backward()"
   ]
  },
  {
   "cell_type": "code",
   "execution_count": null,
   "metadata": {},
   "outputs": [],
   "source": [
    "print(x.grad,z.grad)"
   ]
  },
  {
   "cell_type": "code",
   "execution_count": null,
   "metadata": {},
   "outputs": [],
   "source": [
    "x.grad.zero_()"
   ]
  },
  {
   "cell_type": "code",
   "execution_count": 2,
   "metadata": {},
   "outputs": [],
   "source": [
    "from gan_model import Discriminator, Generator, initialize_weights\n",
    "from torch.utils.tensorboard import SummaryWriter"
   ]
  },
  {
   "cell_type": "code",
   "execution_count": null,
   "metadata": {},
   "outputs": [],
   "source": [
    "netG = Generator().to(\"cuda:0\")\n",
    "netD1 = Discriminator().to(\"cuda:0\")\n",
    "netD2 = Discriminator().to(\"cuda:0\")\n",
    "input_d = torch.randn((2000,3,32,32)).to(\"cuda:0\")\n",
    "input_g = torch.randn((2000,128,1,1)).to(\"cuda:0\")\n",
    "\n",
    "output_disc = netD1(input_d)\n",
    "output_gen = netG(input_g)"
   ]
  },
  {
   "cell_type": "code",
   "execution_count": null,
   "metadata": {},
   "outputs": [],
   "source": [
    "output_disc.reshape(-1)"
   ]
  },
  {
   "cell_type": "code",
   "execution_count": 3,
   "metadata": {},
   "outputs": [],
   "source": [
    "netG = Generator()\n",
    "netD = Discriminator()"
   ]
  },
  {
   "cell_type": "code",
   "execution_count": 4,
   "metadata": {},
   "outputs": [],
   "source": [
    "initialize_weights(netG)\n",
    "initialize_weights(netD)\n",
    "# print(netG.state_dict())"
   ]
  },
  {
   "cell_type": "code",
   "execution_count": 5,
   "metadata": {},
   "outputs": [],
   "source": [
    "# torch.save(netG.state_dict(),'G1_init')\n",
    "torch.save(netD.state_dict(),'D2_init')"
   ]
  },
  {
   "cell_type": "code",
   "execution_count": null,
   "metadata": {},
   "outputs": [],
   "source": [
    "input_d = torch.randn((1,1,32,32))\n",
    "torch.ones_like(input_d).shape"
   ]
  },
  {
   "cell_type": "code",
   "execution_count": null,
   "metadata": {},
   "outputs": [],
   "source": [
    "torch.manual_seed(42)"
   ]
  },
  {
   "cell_type": "code",
   "execution_count": null,
   "metadata": {},
   "outputs": [],
   "source": [
    "torch.randn(1, 1, 1,1)"
   ]
  },
  {
   "cell_type": "code",
   "execution_count": null,
   "metadata": {},
   "outputs": [],
   "source": [
    "weight_sum = 0\n",
    "for i, p in enumerate(netG.parameters()):\n",
    "    output = sum(p.detach().cpu().numpy().flatten())\n",
    "    print(output)\n",
    "    weight_sum += output\n",
    "print(weight_sum)"
   ]
  },
  {
   "cell_type": "code",
   "execution_count": 8,
   "metadata": {},
   "outputs": [],
   "source": [
    "import tensorflow as tf\n",
    "from tensorflow.keras import datasets, layers, models\n",
    "import tensorflow_addons as tfa"
   ]
  },
  {
   "cell_type": "code",
   "execution_count": null,
   "metadata": {},
   "outputs": [],
   "source": [
    "# tf.keras.layers.Conv2DTranspose(\n",
    "#     filters,\n",
    "#     kernel_size,\n",
    "#     strides=(1, 1),\n",
    "#     padding='valid',\n",
    "#     output_padding=None,\n",
    "#     data_format=None,\n",
    "#     dilation_rate=(1, 1),\n",
    "#     activation=None,\n",
    "#     use_bias=True,\n",
    "#     kernel_initializer='glorot_uniform',\n",
    "#     bias_initializer='zeros',\n",
    "#     kernel_regularizer=None,\n",
    "#     bias_regularizer=None,\n",
    "#     activity_regularizer=None,\n",
    "#     kernel_constraint=None,\n",
    "#     bias_constraint=None,\n",
    "#     **kwargs\n",
    "# )"
   ]
  },
  {
   "cell_type": "code",
   "execution_count": 31,
   "metadata": {},
   "outputs": [],
   "source": [
    "def Generator():\n",
    "    model = tf.keras.Sequential()\n",
    "    model.add(layers.Conv2DTranspose(512, (4,4), strides=(1, 1),input_shape=(1, 1, 128), padding='valid', use_bias=False))\n",
    "    model.add(layers.BatchNormalization(momentum=0.1))\n",
    "    model.add(layers.ReLU())\n",
    "\n",
    "    model.add(layers.Conv2DTranspose(512, (4,4), strides=(1, 1),input_shape=(1, 1, 128), padding='valid', use_bias=False))\n",
    "    model.add(layers.BatchNormalization())\n",
    "    model.add(layers.LeakyReLU())\n",
    "\n",
    "    # model.add(layers.Conv2DTranspose(64, (5, 5), strides=(2, 2), padding='same', use_bias=False))\n",
    "    # assert model.output_shape == (None, 14, 14, 64)\n",
    "    # model.add(layers.BatchNormalization())\n",
    "    # model.add(layers.LeakyReLU())\n",
    "\n",
    "    # model.add(layers.Conv2DTranspose(1, (5, 5), strides=(2, 2), padding='same', use_bias=False, activation='tanh'))\n",
    "    # assert model.output_shape == (None, 28, 28, 1)\n",
    "\n",
    "    return model"
   ]
  },
  {
   "cell_type": "code",
   "execution_count": 33,
   "metadata": {},
   "outputs": [
    {
     "data": {
      "text/plain": [
       "<matplotlib.image.AxesImage at 0x204ec6c9810>"
      ]
     },
     "execution_count": 33,
     "metadata": {},
     "output_type": "execute_result"
    },
    {
     "data": {
      "image/png": "[encoded data removed]",
      "text/plain": [
       "<Figure size 640x480 with 1 Axes>"
      ]
     },
     "metadata": {},
     "output_type": "display_data"
    }
   ],
   "source": [
    "generator = Generator()\n",
    "\n",
    "noise = tf.random.normal([1,1,1, 128])\n",
    "generated_image = generator(noise, training=False)\n",
    "\n",
    "plt.imshow(generated_image[0, :, :, 0], cmap='gray')"
   ]
  }
 ],
 "metadata": {
  "kernelspec": {
   "display_name": "Python 3.10.6 64-bit",
   "language": "python",
   "name": "python3"
  },
  "language_info": {
   "codemirror_mode": {
    "name": "ipython",
    "version": 3
   },
   "file_extension": ".py",
   "mimetype": "text/x-python",
   "name": "python",
   "nbconvert_exporter": "python",
   "pygments_lexer": "ipython3",
   "version": "3.10.6"
  },
  "orig_nbformat": 4,
  "vscode": {
   "interpreter": {
    "hash": "26de051ba29f2982a8de78e945f0abaf191376122a1563185a90213a26c5da77"
   }
  }
 },
 "nbformat": 4,
 "nbformat_minor": 2
}
